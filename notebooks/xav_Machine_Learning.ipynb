{
 "cells": [
  {
   "cell_type": "code",
   "execution_count": 11,
   "id": "a8cb58f0",
   "metadata": {
    "cell_id": "00000-c64879c1-1407-43b0-a091-4d2a11183346",
    "deepnote_cell_type": "code",
    "deepnote_to_be_reexecuted": false,
    "execution_millis": 4229,
    "execution_start": 1623312403660,
    "source_hash": "deb6d191"
   },
   "outputs": [],
   "source": [
    "import pandas as pd\n",
    "import numpy as np\n",
    "import os\n",
    "import matplotlib.pyplot as plt\n",
    "import seaborn as sns\n",
    "import nltk\n",
    "from sklearn.model_selection import train_test_split"
   ]
  },
  {
   "cell_type": "code",
   "execution_count": 2,
   "id": "f71296fe",
   "metadata": {
    "cell_id": "00001-26198a2a-b577-41bc-962c-10e40642178e",
    "collapsed": true,
    "deepnote_cell_type": "code",
    "deepnote_to_be_reexecuted": false,
    "execution_millis": 17980,
    "execution_start": 1623312412258,
    "source_hash": "2a64d9e5",
    "tags": []
   },
   "outputs": [
    {
     "name": "stdout",
     "output_type": "stream",
     "text": [
      "Requirement already satisfied: spacy in /home/xavier/.pyenv/versions/3.8.6/envs/lewagon/lib/python3.8/site-packages (3.0.6)\n",
      "Requirement already satisfied: murmurhash<1.1.0,>=0.28.0 in /home/xavier/.pyenv/versions/3.8.6/envs/lewagon/lib/python3.8/site-packages (from spacy) (1.0.5)\n",
      "Requirement already satisfied: typer<0.4.0,>=0.3.0 in /home/xavier/.pyenv/versions/3.8.6/envs/lewagon/lib/python3.8/site-packages (from spacy) (0.3.2)\n",
      "Requirement already satisfied: requests<3.0.0,>=2.13.0 in /home/xavier/.pyenv/versions/3.8.6/envs/lewagon/lib/python3.8/site-packages (from spacy) (2.25.1)\n",
      "Requirement already satisfied: tqdm<5.0.0,>=4.38.0 in /home/xavier/.pyenv/versions/3.8.6/envs/lewagon/lib/python3.8/site-packages (from spacy) (4.60.0)\n",
      "Requirement already satisfied: packaging>=20.0 in /home/xavier/.pyenv/versions/3.8.6/envs/lewagon/lib/python3.8/site-packages (from spacy) (20.9)\n",
      "Requirement already satisfied: wasabi<1.1.0,>=0.8.1 in /home/xavier/.pyenv/versions/3.8.6/envs/lewagon/lib/python3.8/site-packages (from spacy) (0.8.2)\n",
      "Requirement already satisfied: blis<0.8.0,>=0.4.0 in /home/xavier/.pyenv/versions/3.8.6/envs/lewagon/lib/python3.8/site-packages (from spacy) (0.7.4)\n",
      "Requirement already satisfied: pydantic<1.8.0,>=1.7.1 in /home/xavier/.pyenv/versions/3.8.6/envs/lewagon/lib/python3.8/site-packages (from spacy) (1.7.4)\n",
      "Requirement already satisfied: srsly<3.0.0,>=2.4.1 in /home/xavier/.pyenv/versions/3.8.6/envs/lewagon/lib/python3.8/site-packages (from spacy) (2.4.1)\n",
      "Requirement already satisfied: thinc<8.1.0,>=8.0.3 in /home/xavier/.pyenv/versions/3.8.6/envs/lewagon/lib/python3.8/site-packages (from spacy) (8.0.3)\n",
      "Requirement already satisfied: jinja2 in /home/xavier/.pyenv/versions/3.8.6/envs/lewagon/lib/python3.8/site-packages (from spacy) (2.11.3)\n",
      "Requirement already satisfied: setuptools in /home/xavier/.pyenv/versions/3.8.6/envs/lewagon/lib/python3.8/site-packages (from spacy) (49.2.1)\n",
      "Requirement already satisfied: cymem<2.1.0,>=2.0.2 in /home/xavier/.pyenv/versions/3.8.6/envs/lewagon/lib/python3.8/site-packages (from spacy) (2.0.5)\n",
      "Requirement already satisfied: pathy>=0.3.5 in /home/xavier/.pyenv/versions/3.8.6/envs/lewagon/lib/python3.8/site-packages (from spacy) (0.5.2)\n",
      "Requirement already satisfied: catalogue<2.1.0,>=2.0.3 in /home/xavier/.pyenv/versions/3.8.6/envs/lewagon/lib/python3.8/site-packages (from spacy) (2.0.4)\n",
      "Requirement already satisfied: preshed<3.1.0,>=3.0.2 in /home/xavier/.pyenv/versions/3.8.6/envs/lewagon/lib/python3.8/site-packages (from spacy) (3.0.5)\n",
      "Requirement already satisfied: numpy>=1.15.0 in /home/xavier/.pyenv/versions/3.8.6/envs/lewagon/lib/python3.8/site-packages (from spacy) (1.18.5)\n",
      "Requirement already satisfied: spacy-legacy<3.1.0,>=3.0.4 in /home/xavier/.pyenv/versions/3.8.6/envs/lewagon/lib/python3.8/site-packages (from spacy) (3.0.5)\n",
      "Requirement already satisfied: pyparsing>=2.0.2 in /home/xavier/.pyenv/versions/3.8.6/envs/lewagon/lib/python3.8/site-packages (from packaging>=20.0->spacy) (2.4.7)\n",
      "Requirement already satisfied: smart-open<4.0.0,>=2.2.0 in /home/xavier/.pyenv/versions/3.8.6/envs/lewagon/lib/python3.8/site-packages (from pathy>=0.3.5->spacy) (3.0.0)\n",
      "Requirement already satisfied: urllib3<1.27,>=1.21.1 in /home/xavier/.pyenv/versions/3.8.6/envs/lewagon/lib/python3.8/site-packages (from requests<3.0.0,>=2.13.0->spacy) (1.26.4)\n",
      "Requirement already satisfied: idna<3,>=2.5 in /home/xavier/.pyenv/versions/3.8.6/envs/lewagon/lib/python3.8/site-packages (from requests<3.0.0,>=2.13.0->spacy) (2.10)\n",
      "Requirement already satisfied: chardet<5,>=3.0.2 in /home/xavier/.pyenv/versions/3.8.6/envs/lewagon/lib/python3.8/site-packages (from requests<3.0.0,>=2.13.0->spacy) (4.0.0)\n",
      "Requirement already satisfied: certifi>=2017.4.17 in /home/xavier/.pyenv/versions/3.8.6/envs/lewagon/lib/python3.8/site-packages (from requests<3.0.0,>=2.13.0->spacy) (2020.12.5)\n",
      "Requirement already satisfied: click<7.2.0,>=7.1.1 in /home/xavier/.pyenv/versions/3.8.6/envs/lewagon/lib/python3.8/site-packages (from typer<0.4.0,>=0.3.0->spacy) (7.1.2)\n",
      "Requirement already satisfied: MarkupSafe>=0.23 in /home/xavier/.pyenv/versions/3.8.6/envs/lewagon/lib/python3.8/site-packages (from jinja2->spacy) (1.1.1)\n",
      "2021-06-14 17:03:18.494015: W tensorflow/stream_executor/platform/default/dso_loader.cc:60] Could not load dynamic library 'libcudart.so.11.0'; dlerror: libcudart.so.11.0: cannot open shared object file: No such file or directory\n",
      "2021-06-14 17:03:18.494808: I tensorflow/stream_executor/cuda/cudart_stub.cc:29] Ignore above cudart dlerror if you do not have a GPU set up on your machine.\n",
      "Collecting fr-core-news-md==3.0.0\n",
      "  Downloading https://github.com/explosion/spacy-models/releases/download/fr_core_news_md-3.0.0/fr_core_news_md-3.0.0-py3-none-any.whl (47.4 MB)\n",
      "\u001b[K     |████████████████████████████████| 47.4 MB 893 kB/s eta 0:00:01\n",
      "\u001b[?25hRequirement already satisfied: spacy<3.1.0,>=3.0.0 in /home/xavier/.pyenv/versions/3.8.6/envs/lewagon/lib/python3.8/site-packages (from fr-core-news-md==3.0.0) (3.0.6)\n",
      "Requirement already satisfied: tqdm<5.0.0,>=4.38.0 in /home/xavier/.pyenv/versions/3.8.6/envs/lewagon/lib/python3.8/site-packages (from spacy<3.1.0,>=3.0.0->fr-core-news-md==3.0.0) (4.60.0)\n",
      "Requirement already satisfied: requests<3.0.0,>=2.13.0 in /home/xavier/.pyenv/versions/3.8.6/envs/lewagon/lib/python3.8/site-packages (from spacy<3.1.0,>=3.0.0->fr-core-news-md==3.0.0) (2.25.1)\n",
      "Requirement already satisfied: typer<0.4.0,>=0.3.0 in /home/xavier/.pyenv/versions/3.8.6/envs/lewagon/lib/python3.8/site-packages (from spacy<3.1.0,>=3.0.0->fr-core-news-md==3.0.0) (0.3.2)\n",
      "Requirement already satisfied: murmurhash<1.1.0,>=0.28.0 in /home/xavier/.pyenv/versions/3.8.6/envs/lewagon/lib/python3.8/site-packages (from spacy<3.1.0,>=3.0.0->fr-core-news-md==3.0.0) (1.0.5)\n",
      "Requirement already satisfied: packaging>=20.0 in /home/xavier/.pyenv/versions/3.8.6/envs/lewagon/lib/python3.8/site-packages (from spacy<3.1.0,>=3.0.0->fr-core-news-md==3.0.0) (20.9)\n",
      "Requirement already satisfied: pydantic<1.8.0,>=1.7.1 in /home/xavier/.pyenv/versions/3.8.6/envs/lewagon/lib/python3.8/site-packages (from spacy<3.1.0,>=3.0.0->fr-core-news-md==3.0.0) (1.7.4)\n",
      "Requirement already satisfied: wasabi<1.1.0,>=0.8.1 in /home/xavier/.pyenv/versions/3.8.6/envs/lewagon/lib/python3.8/site-packages (from spacy<3.1.0,>=3.0.0->fr-core-news-md==3.0.0) (0.8.2)\n",
      "Requirement already satisfied: catalogue<2.1.0,>=2.0.3 in /home/xavier/.pyenv/versions/3.8.6/envs/lewagon/lib/python3.8/site-packages (from spacy<3.1.0,>=3.0.0->fr-core-news-md==3.0.0) (2.0.4)\n",
      "Requirement already satisfied: spacy-legacy<3.1.0,>=3.0.4 in /home/xavier/.pyenv/versions/3.8.6/envs/lewagon/lib/python3.8/site-packages (from spacy<3.1.0,>=3.0.0->fr-core-news-md==3.0.0) (3.0.5)\n",
      "Requirement already satisfied: numpy>=1.15.0 in /home/xavier/.pyenv/versions/3.8.6/envs/lewagon/lib/python3.8/site-packages (from spacy<3.1.0,>=3.0.0->fr-core-news-md==3.0.0) (1.18.5)\n",
      "Requirement already satisfied: thinc<8.1.0,>=8.0.3 in /home/xavier/.pyenv/versions/3.8.6/envs/lewagon/lib/python3.8/site-packages (from spacy<3.1.0,>=3.0.0->fr-core-news-md==3.0.0) (8.0.3)\n",
      "Requirement already satisfied: cymem<2.1.0,>=2.0.2 in /home/xavier/.pyenv/versions/3.8.6/envs/lewagon/lib/python3.8/site-packages (from spacy<3.1.0,>=3.0.0->fr-core-news-md==3.0.0) (2.0.5)\n",
      "Requirement already satisfied: blis<0.8.0,>=0.4.0 in /home/xavier/.pyenv/versions/3.8.6/envs/lewagon/lib/python3.8/site-packages (from spacy<3.1.0,>=3.0.0->fr-core-news-md==3.0.0) (0.7.4)\n",
      "Requirement already satisfied: pathy>=0.3.5 in /home/xavier/.pyenv/versions/3.8.6/envs/lewagon/lib/python3.8/site-packages (from spacy<3.1.0,>=3.0.0->fr-core-news-md==3.0.0) (0.5.2)\n",
      "Requirement already satisfied: jinja2 in /home/xavier/.pyenv/versions/3.8.6/envs/lewagon/lib/python3.8/site-packages (from spacy<3.1.0,>=3.0.0->fr-core-news-md==3.0.0) (2.11.3)\n",
      "Requirement already satisfied: setuptools in /home/xavier/.pyenv/versions/3.8.6/envs/lewagon/lib/python3.8/site-packages (from spacy<3.1.0,>=3.0.0->fr-core-news-md==3.0.0) (49.2.1)\n",
      "Requirement already satisfied: srsly<3.0.0,>=2.4.1 in /home/xavier/.pyenv/versions/3.8.6/envs/lewagon/lib/python3.8/site-packages (from spacy<3.1.0,>=3.0.0->fr-core-news-md==3.0.0) (2.4.1)\n",
      "Requirement already satisfied: preshed<3.1.0,>=3.0.2 in /home/xavier/.pyenv/versions/3.8.6/envs/lewagon/lib/python3.8/site-packages (from spacy<3.1.0,>=3.0.0->fr-core-news-md==3.0.0) (3.0.5)\n"
     ]
    },
    {
     "name": "stdout",
     "output_type": "stream",
     "text": [
      "Requirement already satisfied: pyparsing>=2.0.2 in /home/xavier/.pyenv/versions/3.8.6/envs/lewagon/lib/python3.8/site-packages (from packaging>=20.0->spacy<3.1.0,>=3.0.0->fr-core-news-md==3.0.0) (2.4.7)\n",
      "Requirement already satisfied: smart-open<4.0.0,>=2.2.0 in /home/xavier/.pyenv/versions/3.8.6/envs/lewagon/lib/python3.8/site-packages (from pathy>=0.3.5->spacy<3.1.0,>=3.0.0->fr-core-news-md==3.0.0) (3.0.0)\n",
      "Requirement already satisfied: idna<3,>=2.5 in /home/xavier/.pyenv/versions/3.8.6/envs/lewagon/lib/python3.8/site-packages (from requests<3.0.0,>=2.13.0->spacy<3.1.0,>=3.0.0->fr-core-news-md==3.0.0) (2.10)\n",
      "Requirement already satisfied: certifi>=2017.4.17 in /home/xavier/.pyenv/versions/3.8.6/envs/lewagon/lib/python3.8/site-packages (from requests<3.0.0,>=2.13.0->spacy<3.1.0,>=3.0.0->fr-core-news-md==3.0.0) (2020.12.5)\n",
      "Requirement already satisfied: chardet<5,>=3.0.2 in /home/xavier/.pyenv/versions/3.8.6/envs/lewagon/lib/python3.8/site-packages (from requests<3.0.0,>=2.13.0->spacy<3.1.0,>=3.0.0->fr-core-news-md==3.0.0) (4.0.0)\n",
      "Requirement already satisfied: urllib3<1.27,>=1.21.1 in /home/xavier/.pyenv/versions/3.8.6/envs/lewagon/lib/python3.8/site-packages (from requests<3.0.0,>=2.13.0->spacy<3.1.0,>=3.0.0->fr-core-news-md==3.0.0) (1.26.4)\n",
      "Requirement already satisfied: click<7.2.0,>=7.1.1 in /home/xavier/.pyenv/versions/3.8.6/envs/lewagon/lib/python3.8/site-packages (from typer<0.4.0,>=0.3.0->spacy<3.1.0,>=3.0.0->fr-core-news-md==3.0.0) (7.1.2)\n",
      "Requirement already satisfied: MarkupSafe>=0.23 in /home/xavier/.pyenv/versions/3.8.6/envs/lewagon/lib/python3.8/site-packages (from jinja2->spacy<3.1.0,>=3.0.0->fr-core-news-md==3.0.0) (1.1.1)\n",
      "\u001b[38;5;2m✔ Download and installation successful\u001b[0m\n",
      "You can now load the package via spacy.load('fr_core_news_md')\n"
     ]
    }
   ],
   "source": [
    "!pip install spacy\n",
    "!python -m spacy download fr_core_news_md"
   ]
  },
  {
   "cell_type": "code",
   "execution_count": 12,
   "id": "89e4fe85",
   "metadata": {
    "cell_id": "00002-1c046448-7a4b-4504-8fcf-1641236eae79",
    "deepnote_cell_type": "code",
    "deepnote_to_be_reexecuted": false,
    "execution_millis": 13421,
    "execution_start": 1623312430244,
    "source_hash": "520541b0",
    "tags": []
   },
   "outputs": [],
   "source": [
    "import spacy\n",
    "nlp = spacy.load('fr_core_news_md')"
   ]
  },
  {
   "cell_type": "code",
   "execution_count": 13,
   "id": "ef975225",
   "metadata": {
    "cell_id": "00001-057c6663-041f-436c-9ded-7eb076b8c232",
    "deepnote_cell_type": "code",
    "deepnote_to_be_reexecuted": false,
    "execution_millis": 893,
    "execution_start": 1623312443706,
    "source_hash": "475aaa0d",
    "tags": []
   },
   "outputs": [
    {
     "name": "stderr",
     "output_type": "stream",
     "text": [
      "[nltk_data] Downloading package stopwords to /home/xavier/nltk_data...\n",
      "[nltk_data]   Package stopwords is already up-to-date!\n",
      "[nltk_data] Downloading package punkt to /home/xavier/nltk_data...\n",
      "[nltk_data]   Package punkt is already up-to-date!\n",
      "[nltk_data] Downloading package wordnet to /home/xavier/nltk_data...\n",
      "[nltk_data]   Package wordnet is already up-to-date!\n"
     ]
    },
    {
     "data": {
      "text/plain": [
       "True"
      ]
     },
     "execution_count": 13,
     "metadata": {},
     "output_type": "execute_result"
    }
   ],
   "source": [
    "import nltk\n",
    "nltk.download('stopwords')\n",
    "nltk.download('punkt')\n",
    "nltk.download('wordnet')"
   ]
  },
  {
   "cell_type": "code",
   "execution_count": 14,
   "id": "54e079d7",
   "metadata": {},
   "outputs": [
    {
     "ename": "ParserError",
     "evalue": "Error tokenizing data. C error: Expected 1 fields in line 16, saw 2\n",
     "output_type": "error",
     "traceback": [
      "\u001b[0;31m---------------------------------------------------------------------------\u001b[0m",
      "\u001b[0;31mParserError\u001b[0m                               Traceback (most recent call last)",
      "\u001b[0;32m<ipython-input-14-6cab2846670d>\u001b[0m in \u001b[0;36m<module>\u001b[0;34m\u001b[0m\n\u001b[0;32m----> 1\u001b[0;31m \u001b[0mfrench_labeled\u001b[0m \u001b[0;34m=\u001b[0m \u001b[0mpd\u001b[0m\u001b[0;34m.\u001b[0m\u001b[0mread_csv\u001b[0m\u001b[0;34m(\u001b[0m\u001b[0;34m'../raw_data/labeled_french_tweets.csv'\u001b[0m\u001b[0;34m)\u001b[0m\u001b[0;34m\u001b[0m\u001b[0;34m\u001b[0m\u001b[0m\n\u001b[0m",
      "\u001b[0;32m~/.pyenv/versions/3.8.6/envs/lewagon/lib/python3.8/site-packages/pandas/io/parsers.py\u001b[0m in \u001b[0;36mread_csv\u001b[0;34m(filepath_or_buffer, sep, delimiter, header, names, index_col, usecols, squeeze, prefix, mangle_dupe_cols, dtype, engine, converters, true_values, false_values, skipinitialspace, skiprows, skipfooter, nrows, na_values, keep_default_na, na_filter, verbose, skip_blank_lines, parse_dates, infer_datetime_format, keep_date_col, date_parser, dayfirst, cache_dates, iterator, chunksize, compression, thousands, decimal, lineterminator, quotechar, quoting, doublequote, escapechar, comment, encoding, dialect, error_bad_lines, warn_bad_lines, delim_whitespace, low_memory, memory_map, float_precision, storage_options)\u001b[0m\n\u001b[1;32m    608\u001b[0m     \u001b[0mkwds\u001b[0m\u001b[0;34m.\u001b[0m\u001b[0mupdate\u001b[0m\u001b[0;34m(\u001b[0m\u001b[0mkwds_defaults\u001b[0m\u001b[0;34m)\u001b[0m\u001b[0;34m\u001b[0m\u001b[0;34m\u001b[0m\u001b[0m\n\u001b[1;32m    609\u001b[0m \u001b[0;34m\u001b[0m\u001b[0m\n\u001b[0;32m--> 610\u001b[0;31m     \u001b[0;32mreturn\u001b[0m \u001b[0m_read\u001b[0m\u001b[0;34m(\u001b[0m\u001b[0mfilepath_or_buffer\u001b[0m\u001b[0;34m,\u001b[0m \u001b[0mkwds\u001b[0m\u001b[0;34m)\u001b[0m\u001b[0;34m\u001b[0m\u001b[0;34m\u001b[0m\u001b[0m\n\u001b[0m\u001b[1;32m    611\u001b[0m \u001b[0;34m\u001b[0m\u001b[0m\n\u001b[1;32m    612\u001b[0m \u001b[0;34m\u001b[0m\u001b[0m\n",
      "\u001b[0;32m~/.pyenv/versions/3.8.6/envs/lewagon/lib/python3.8/site-packages/pandas/io/parsers.py\u001b[0m in \u001b[0;36m_read\u001b[0;34m(filepath_or_buffer, kwds)\u001b[0m\n\u001b[1;32m    466\u001b[0m \u001b[0;34m\u001b[0m\u001b[0m\n\u001b[1;32m    467\u001b[0m     \u001b[0;32mwith\u001b[0m \u001b[0mparser\u001b[0m\u001b[0;34m:\u001b[0m\u001b[0;34m\u001b[0m\u001b[0;34m\u001b[0m\u001b[0m\n\u001b[0;32m--> 468\u001b[0;31m         \u001b[0;32mreturn\u001b[0m \u001b[0mparser\u001b[0m\u001b[0;34m.\u001b[0m\u001b[0mread\u001b[0m\u001b[0;34m(\u001b[0m\u001b[0mnrows\u001b[0m\u001b[0;34m)\u001b[0m\u001b[0;34m\u001b[0m\u001b[0;34m\u001b[0m\u001b[0m\n\u001b[0m\u001b[1;32m    469\u001b[0m \u001b[0;34m\u001b[0m\u001b[0m\n\u001b[1;32m    470\u001b[0m \u001b[0;34m\u001b[0m\u001b[0m\n",
      "\u001b[0;32m~/.pyenv/versions/3.8.6/envs/lewagon/lib/python3.8/site-packages/pandas/io/parsers.py\u001b[0m in \u001b[0;36mread\u001b[0;34m(self, nrows)\u001b[0m\n\u001b[1;32m   1055\u001b[0m     \u001b[0;32mdef\u001b[0m \u001b[0mread\u001b[0m\u001b[0;34m(\u001b[0m\u001b[0mself\u001b[0m\u001b[0;34m,\u001b[0m \u001b[0mnrows\u001b[0m\u001b[0;34m=\u001b[0m\u001b[0;32mNone\u001b[0m\u001b[0;34m)\u001b[0m\u001b[0;34m:\u001b[0m\u001b[0;34m\u001b[0m\u001b[0;34m\u001b[0m\u001b[0m\n\u001b[1;32m   1056\u001b[0m         \u001b[0mnrows\u001b[0m \u001b[0;34m=\u001b[0m \u001b[0mvalidate_integer\u001b[0m\u001b[0;34m(\u001b[0m\u001b[0;34m\"nrows\"\u001b[0m\u001b[0;34m,\u001b[0m \u001b[0mnrows\u001b[0m\u001b[0;34m)\u001b[0m\u001b[0;34m\u001b[0m\u001b[0;34m\u001b[0m\u001b[0m\n\u001b[0;32m-> 1057\u001b[0;31m         \u001b[0mindex\u001b[0m\u001b[0;34m,\u001b[0m \u001b[0mcolumns\u001b[0m\u001b[0;34m,\u001b[0m \u001b[0mcol_dict\u001b[0m \u001b[0;34m=\u001b[0m \u001b[0mself\u001b[0m\u001b[0;34m.\u001b[0m\u001b[0m_engine\u001b[0m\u001b[0;34m.\u001b[0m\u001b[0mread\u001b[0m\u001b[0;34m(\u001b[0m\u001b[0mnrows\u001b[0m\u001b[0;34m)\u001b[0m\u001b[0;34m\u001b[0m\u001b[0;34m\u001b[0m\u001b[0m\n\u001b[0m\u001b[1;32m   1058\u001b[0m \u001b[0;34m\u001b[0m\u001b[0m\n\u001b[1;32m   1059\u001b[0m         \u001b[0;32mif\u001b[0m \u001b[0mindex\u001b[0m \u001b[0;32mis\u001b[0m \u001b[0;32mNone\u001b[0m\u001b[0;34m:\u001b[0m\u001b[0;34m\u001b[0m\u001b[0;34m\u001b[0m\u001b[0m\n",
      "\u001b[0;32m~/.pyenv/versions/3.8.6/envs/lewagon/lib/python3.8/site-packages/pandas/io/parsers.py\u001b[0m in \u001b[0;36mread\u001b[0;34m(self, nrows)\u001b[0m\n\u001b[1;32m   2059\u001b[0m     \u001b[0;32mdef\u001b[0m \u001b[0mread\u001b[0m\u001b[0;34m(\u001b[0m\u001b[0mself\u001b[0m\u001b[0;34m,\u001b[0m \u001b[0mnrows\u001b[0m\u001b[0;34m=\u001b[0m\u001b[0;32mNone\u001b[0m\u001b[0;34m)\u001b[0m\u001b[0;34m:\u001b[0m\u001b[0;34m\u001b[0m\u001b[0;34m\u001b[0m\u001b[0m\n\u001b[1;32m   2060\u001b[0m         \u001b[0;32mtry\u001b[0m\u001b[0;34m:\u001b[0m\u001b[0;34m\u001b[0m\u001b[0;34m\u001b[0m\u001b[0m\n\u001b[0;32m-> 2061\u001b[0;31m             \u001b[0mdata\u001b[0m \u001b[0;34m=\u001b[0m \u001b[0mself\u001b[0m\u001b[0;34m.\u001b[0m\u001b[0m_reader\u001b[0m\u001b[0;34m.\u001b[0m\u001b[0mread\u001b[0m\u001b[0;34m(\u001b[0m\u001b[0mnrows\u001b[0m\u001b[0;34m)\u001b[0m\u001b[0;34m\u001b[0m\u001b[0;34m\u001b[0m\u001b[0m\n\u001b[0m\u001b[1;32m   2062\u001b[0m         \u001b[0;32mexcept\u001b[0m \u001b[0mStopIteration\u001b[0m\u001b[0;34m:\u001b[0m\u001b[0;34m\u001b[0m\u001b[0;34m\u001b[0m\u001b[0m\n\u001b[1;32m   2063\u001b[0m             \u001b[0;32mif\u001b[0m \u001b[0mself\u001b[0m\u001b[0;34m.\u001b[0m\u001b[0m_first_chunk\u001b[0m\u001b[0;34m:\u001b[0m\u001b[0;34m\u001b[0m\u001b[0;34m\u001b[0m\u001b[0m\n",
      "\u001b[0;32mpandas/_libs/parsers.pyx\u001b[0m in \u001b[0;36mpandas._libs.parsers.TextReader.read\u001b[0;34m()\u001b[0m\n",
      "\u001b[0;32mpandas/_libs/parsers.pyx\u001b[0m in \u001b[0;36mpandas._libs.parsers.TextReader._read_low_memory\u001b[0;34m()\u001b[0m\n",
      "\u001b[0;32mpandas/_libs/parsers.pyx\u001b[0m in \u001b[0;36mpandas._libs.parsers.TextReader._read_rows\u001b[0;34m()\u001b[0m\n",
      "\u001b[0;32mpandas/_libs/parsers.pyx\u001b[0m in \u001b[0;36mpandas._libs.parsers.TextReader._tokenize_rows\u001b[0;34m()\u001b[0m\n",
      "\u001b[0;32mpandas/_libs/parsers.pyx\u001b[0m in \u001b[0;36mpandas._libs.parsers.raise_parser_error\u001b[0;34m()\u001b[0m\n",
      "\u001b[0;31mParserError\u001b[0m: Error tokenizing data. C error: Expected 1 fields in line 16, saw 2\n"
     ]
    }
   ],
   "source": [
    "french_labeled = pd.read_csv('../raw_data/labeled_french_tweets.csv')"
   ]
  },
  {
   "cell_type": "code",
   "execution_count": 5,
   "id": "95688035",
   "metadata": {
    "cell_id": "00002-0c0601cf-d7cc-4e3b-818a-bca2f06a26b1",
    "deepnote_cell_type": "code",
    "deepnote_to_be_reexecuted": false,
    "execution_millis": 2889,
    "execution_start": 1623313556969,
    "source_hash": "c356188c",
    "tags": []
   },
   "outputs": [
    {
     "data": {
      "text/plain": [
       "0    25435\n",
       "1    24565\n",
       "Name: label, dtype: int64"
      ]
     },
     "execution_count": 5,
     "metadata": {},
     "output_type": "execute_result"
    }
   ],
   "source": [
    "french = pd.read_csv('../raw_data/french_clean.csv')\n",
    "french.label.value_counts()"
   ]
  },
  {
   "cell_type": "code",
   "execution_count": 7,
   "id": "1083e97b",
   "metadata": {
    "cell_id": "00005-995520ab-6b8d-451f-b412-e91713f38806",
    "deepnote_cell_type": "code",
    "deepnote_to_be_reexecuted": false,
    "execution_millis": 78,
    "execution_start": 1623313559855,
    "source_hash": "f44c6f6",
    "tags": []
   },
   "outputs": [
    {
     "data": {
      "text/html": [
       "<div>\n",
       "<style scoped>\n",
       "    .dataframe tbody tr th:only-of-type {\n",
       "        vertical-align: middle;\n",
       "    }\n",
       "\n",
       "    .dataframe tbody tr th {\n",
       "        vertical-align: top;\n",
       "    }\n",
       "\n",
       "    .dataframe thead th {\n",
       "        text-align: right;\n",
       "    }\n",
       "</style>\n",
       "<table border=\"1\" class=\"dataframe\">\n",
       "  <thead>\n",
       "    <tr style=\"text-align: right;\">\n",
       "      <th></th>\n",
       "      <th>Unnamed: 0</th>\n",
       "      <th>label</th>\n",
       "      <th>text</th>\n",
       "      <th>clean_text</th>\n",
       "    </tr>\n",
       "  </thead>\n",
       "  <tbody>\n",
       "    <tr>\n",
       "      <th>0</th>\n",
       "      <td>0</td>\n",
       "      <td>0</td>\n",
       "      <td>La peinture me rend achy</td>\n",
       "      <td>le peinture me rendre achy</td>\n",
       "    </tr>\n",
       "    <tr>\n",
       "      <th>1</th>\n",
       "      <td>1</td>\n",
       "      <td>0</td>\n",
       "      <td>Les fans de nk ne sont-ils pas les meilleurs? ...</td>\n",
       "      <td>le fan de nk ne être il pas le meilleur   je d...</td>\n",
       "    </tr>\n",
       "    <tr>\n",
       "      <th>2</th>\n",
       "      <td>2</td>\n",
       "      <td>1</td>\n",
       "      <td>Une autre belle journée. Coincé dans le bureau...</td>\n",
       "      <td>un autre bel journée   coincer dans le bureau ...</td>\n",
       "    </tr>\n",
       "    <tr>\n",
       "      <th>3</th>\n",
       "      <td>3</td>\n",
       "      <td>0</td>\n",
       "      <td>: Dee, vous avez acheté une autre mini jupe? E...</td>\n",
       "      <td>dee   vous avoir acheter un autre mini jup ...</td>\n",
       "    </tr>\n",
       "    <tr>\n",
       "      <th>4</th>\n",
       "      <td>4</td>\n",
       "      <td>1</td>\n",
       "      <td>Mon domestique à Hollywood a été éliminé! Trav...</td>\n",
       "      <td>mon domestique à hollywood avoir être éliminer...</td>\n",
       "    </tr>\n",
       "  </tbody>\n",
       "</table>\n",
       "</div>"
      ],
      "text/plain": [
       "   Unnamed: 0  label                                               text  \\\n",
       "0           0      0                           La peinture me rend achy   \n",
       "1           1      0  Les fans de nk ne sont-ils pas les meilleurs? ...   \n",
       "2           2      1  Une autre belle journée. Coincé dans le bureau...   \n",
       "3           3      0  : Dee, vous avez acheté une autre mini jupe? E...   \n",
       "4           4      1  Mon domestique à Hollywood a été éliminé! Trav...   \n",
       "\n",
       "                                          clean_text  \n",
       "0                         le peinture me rendre achy  \n",
       "1  le fan de nk ne être il pas le meilleur   je d...  \n",
       "2  un autre bel journée   coincer dans le bureau ...  \n",
       "3     dee   vous avoir acheter un autre mini jup ...  \n",
       "4  mon domestique à hollywood avoir être éliminer...  "
      ]
     },
     "execution_count": 7,
     "metadata": {},
     "output_type": "execute_result"
    }
   ],
   "source": [
    "french.head()"
   ]
  },
  {
   "cell_type": "code",
   "execution_count": 8,
   "id": "123b0caf",
   "metadata": {
    "cell_id": "00006-daeb686a-21c6-4aec-b771-7712375debb2",
    "deepnote_cell_type": "code",
    "deepnote_to_be_reexecuted": false,
    "execution_millis": 4,
    "execution_start": 1623313560822,
    "source_hash": "b4a31fb7",
    "tags": []
   },
   "outputs": [],
   "source": [
    "french = french.drop(['Unnamed: 0'], axis= 1)"
   ]
  },
  {
   "cell_type": "code",
   "execution_count": 9,
   "id": "93f3b62c",
   "metadata": {
    "cell_id": "00007-dd1cefcb-90db-4bc2-bb60-15b6fcac0beb",
    "deepnote_cell_type": "code",
    "deepnote_to_be_reexecuted": false,
    "execution_millis": 3,
    "execution_start": 1623313565103,
    "source_hash": "78032292",
    "tags": []
   },
   "outputs": [
    {
     "data": {
      "text/html": [
       "<div>\n",
       "<style scoped>\n",
       "    .dataframe tbody tr th:only-of-type {\n",
       "        vertical-align: middle;\n",
       "    }\n",
       "\n",
       "    .dataframe tbody tr th {\n",
       "        vertical-align: top;\n",
       "    }\n",
       "\n",
       "    .dataframe thead th {\n",
       "        text-align: right;\n",
       "    }\n",
       "</style>\n",
       "<table border=\"1\" class=\"dataframe\">\n",
       "  <thead>\n",
       "    <tr style=\"text-align: right;\">\n",
       "      <th></th>\n",
       "      <th>label</th>\n",
       "      <th>text</th>\n",
       "      <th>clean_text</th>\n",
       "    </tr>\n",
       "  </thead>\n",
       "  <tbody>\n",
       "    <tr>\n",
       "      <th>0</th>\n",
       "      <td>0</td>\n",
       "      <td>La peinture me rend achy</td>\n",
       "      <td>le peinture me rendre achy</td>\n",
       "    </tr>\n",
       "    <tr>\n",
       "      <th>1</th>\n",
       "      <td>0</td>\n",
       "      <td>Les fans de nk ne sont-ils pas les meilleurs? ...</td>\n",
       "      <td>le fan de nk ne être il pas le meilleur   je d...</td>\n",
       "    </tr>\n",
       "    <tr>\n",
       "      <th>2</th>\n",
       "      <td>1</td>\n",
       "      <td>Une autre belle journée. Coincé dans le bureau...</td>\n",
       "      <td>un autre bel journée   coincer dans le bureau ...</td>\n",
       "    </tr>\n",
       "    <tr>\n",
       "      <th>3</th>\n",
       "      <td>0</td>\n",
       "      <td>: Dee, vous avez acheté une autre mini jupe? E...</td>\n",
       "      <td>dee   vous avoir acheter un autre mini jup ...</td>\n",
       "    </tr>\n",
       "    <tr>\n",
       "      <th>4</th>\n",
       "      <td>1</td>\n",
       "      <td>Mon domestique à Hollywood a été éliminé! Trav...</td>\n",
       "      <td>mon domestique à hollywood avoir être éliminer...</td>\n",
       "    </tr>\n",
       "  </tbody>\n",
       "</table>\n",
       "</div>"
      ],
      "text/plain": [
       "   label                                               text  \\\n",
       "0      0                           La peinture me rend achy   \n",
       "1      0  Les fans de nk ne sont-ils pas les meilleurs? ...   \n",
       "2      1  Une autre belle journée. Coincé dans le bureau...   \n",
       "3      0  : Dee, vous avez acheté une autre mini jupe? E...   \n",
       "4      1  Mon domestique à Hollywood a été éliminé! Trav...   \n",
       "\n",
       "                                          clean_text  \n",
       "0                         le peinture me rendre achy  \n",
       "1  le fan de nk ne être il pas le meilleur   je d...  \n",
       "2  un autre bel journée   coincer dans le bureau ...  \n",
       "3     dee   vous avoir acheter un autre mini jup ...  \n",
       "4  mon domestique à hollywood avoir être éliminer...  "
      ]
     },
     "execution_count": 9,
     "metadata": {},
     "output_type": "execute_result"
    }
   ],
   "source": [
    "french.head()"
   ]
  },
  {
   "cell_type": "code",
   "execution_count": 12,
   "id": "f83fd220",
   "metadata": {},
   "outputs": [],
   "source": []
  },
  {
   "cell_type": "code",
   "execution_count": 49,
   "id": "2fc17627",
   "metadata": {},
   "outputs": [
    {
     "data": {
      "text/plain": [
       "(2000, 3)"
      ]
     },
     "execution_count": 49,
     "metadata": {},
     "output_type": "execute_result"
    }
   ],
   "source": []
  },
  {
   "cell_type": "code",
   "execution_count": 14,
   "id": "283a1818",
   "metadata": {
    "scrolled": true
   },
   "outputs": [
    {
     "data": {
      "text/plain": [
       "0    1000\n",
       "1    1000\n",
       "Name: label, dtype: int64"
      ]
     },
     "execution_count": 14,
     "metadata": {},
     "output_type": "execute_result"
    }
   ],
   "source": []
  },
  {
   "cell_type": "code",
   "execution_count": 16,
   "id": "6a342432",
   "metadata": {
    "cell_id": "00003-cf2b7988-0e41-499e-8a20-53849c3cfcd9",
    "deepnote_cell_type": "code",
    "deepnote_to_be_reexecuted": false,
    "execution_millis": 89,
    "execution_start": 1623312521016,
    "source_hash": "ec70b5f9",
    "tags": []
   },
   "outputs": [
    {
     "name": "stdout",
     "output_type": "stream",
     "text": [
      "US airline tweets shape : (14640, 15)\n"
     ]
    }
   ],
   "source": [
    "airline = pd.read_csv(\"../raw_data/Tweets.csv\")\n",
    "print('US airline tweets shape :', airline.shape)"
   ]
  },
  {
   "cell_type": "code",
   "execution_count": 17,
   "id": "109fdb21",
   "metadata": {
    "cell_id": "00004-694edf52-8852-4b1b-b41d-e21abaa1c88c",
    "deepnote_cell_type": "code",
    "deepnote_to_be_reexecuted": false,
    "execution_millis": 0,
    "execution_start": 1623247557959,
    "source_hash": "9f244adf",
    "tags": []
   },
   "outputs": [],
   "source": [
    "airline = airline[['tweet_id','text','airline_sentiment']]"
   ]
  },
  {
   "cell_type": "code",
   "execution_count": 18,
   "id": "6bc86d40",
   "metadata": {
    "cell_id": "00005-765c4e74-dc57-49fd-89cd-c97b5d0e4b42",
    "deepnote_cell_type": "code",
    "deepnote_to_be_reexecuted": false,
    "execution_millis": 1,
    "execution_start": 1623247568322,
    "source_hash": "7a3b5136",
    "tags": []
   },
   "outputs": [],
   "source": [
    "airline.rename({'tweet_id':'textID', 'text':'text', 'airline_sentiment':'sentiment'}, axis='columns', inplace = True)"
   ]
  },
  {
   "cell_type": "code",
   "execution_count": 19,
   "id": "dd248254",
   "metadata": {
    "cell_id": "00006-65101c44-4d4d-4b53-a621-8310944bf00d",
    "deepnote_cell_type": "code",
    "deepnote_to_be_reexecuted": false,
    "execution_millis": 1,
    "execution_start": 1623247570462,
    "source_hash": "1569b29",
    "tags": []
   },
   "outputs": [],
   "source": [
    "airline[\"selected_text\"] = 'from airline'"
   ]
  },
  {
   "cell_type": "code",
   "execution_count": 20,
   "id": "9f2b77da",
   "metadata": {
    "cell_id": "00005-0cfed935-c426-4331-a6ea-5b96b946ffcf",
    "deepnote_cell_type": "code",
    "deepnote_to_be_reexecuted": false,
    "execution_millis": 3,
    "execution_start": 1623247572353,
    "source_hash": "f824a946",
    "tags": []
   },
   "outputs": [],
   "source": [
    "airline = airline[['textID','text', 'selected_text','sentiment']]"
   ]
  },
  {
   "cell_type": "code",
   "execution_count": 21,
   "id": "12e01bec",
   "metadata": {
    "cell_id": "00008-b59bfd76-bde7-4fd6-a11b-c58a4d779301",
    "deepnote_cell_type": "code",
    "deepnote_to_be_reexecuted": false,
    "execution_millis": 0,
    "execution_start": 1623247685814,
    "source_hash": "5c6b07a6",
    "tags": []
   },
   "outputs": [],
   "source": [
    "airline = airline[airline.sentiment != \"neutral\"]"
   ]
  },
  {
   "cell_type": "code",
   "execution_count": 22,
   "id": "18576b88",
   "metadata": {
    "cell_id": "00009-c3bb933b-104e-4e57-b27a-a270c9a5ed2b",
    "deepnote_cell_type": "code",
    "deepnote_to_be_reexecuted": false,
    "execution_millis": 0,
    "execution_start": 1623247688270,
    "source_hash": "324f3590",
    "tags": []
   },
   "outputs": [],
   "source": [
    "airline[\"sentiment\"] = airline[\"sentiment\"].map({'positive' : 1, \"negative\" : 0})"
   ]
  },
  {
   "cell_type": "code",
   "execution_count": 23,
   "id": "159c7a69",
   "metadata": {
    "cell_id": "00005-979f9271-c9da-4d9b-b6b8-6b6a550ab3bf",
    "deepnote_cell_type": "code",
    "deepnote_to_be_reexecuted": false,
    "execution_millis": 12,
    "execution_start": 1623248833945,
    "source_hash": "894ae65",
    "tags": []
   },
   "outputs": [
    {
     "data": {
      "text/plain": [
       "0    9178\n",
       "1    2363\n",
       "Name: sentiment, dtype: int64"
      ]
     },
     "execution_count": 23,
     "metadata": {},
     "output_type": "execute_result"
    }
   ],
   "source": [
    "airline.sentiment.value_counts()"
   ]
  },
  {
   "cell_type": "code",
   "execution_count": 24,
   "id": "190e7b13",
   "metadata": {
    "cell_id": "00003-b0bd29b5-0ce7-4202-90b1-6ad1a4562d91",
    "deepnote_cell_type": "code",
    "deepnote_to_be_reexecuted": false,
    "execution_millis": 17,
    "execution_start": 1623247058530,
    "source_hash": "e1f0b45"
   },
   "outputs": [
    {
     "data": {
      "text/html": [
       "<div>\n",
       "<style scoped>\n",
       "    .dataframe tbody tr th:only-of-type {\n",
       "        vertical-align: middle;\n",
       "    }\n",
       "\n",
       "    .dataframe tbody tr th {\n",
       "        vertical-align: top;\n",
       "    }\n",
       "\n",
       "    .dataframe thead th {\n",
       "        text-align: right;\n",
       "    }\n",
       "</style>\n",
       "<table border=\"1\" class=\"dataframe\">\n",
       "  <thead>\n",
       "    <tr style=\"text-align: right;\">\n",
       "      <th></th>\n",
       "      <th>textID</th>\n",
       "      <th>text</th>\n",
       "      <th>selected_text</th>\n",
       "      <th>sentiment</th>\n",
       "    </tr>\n",
       "  </thead>\n",
       "  <tbody>\n",
       "    <tr>\n",
       "      <th>0</th>\n",
       "      <td>cb774db0d1</td>\n",
       "      <td>I`d have responded, if I were going</td>\n",
       "      <td>I`d have responded, if I were going</td>\n",
       "      <td>neutral</td>\n",
       "    </tr>\n",
       "    <tr>\n",
       "      <th>1</th>\n",
       "      <td>549e992a42</td>\n",
       "      <td>Sooo SAD I will miss you here in San Diego!!!</td>\n",
       "      <td>Sooo SAD</td>\n",
       "      <td>negative</td>\n",
       "    </tr>\n",
       "    <tr>\n",
       "      <th>2</th>\n",
       "      <td>088c60f138</td>\n",
       "      <td>my boss is bullying me...</td>\n",
       "      <td>bullying me</td>\n",
       "      <td>negative</td>\n",
       "    </tr>\n",
       "    <tr>\n",
       "      <th>3</th>\n",
       "      <td>9642c003ef</td>\n",
       "      <td>what interview! leave me alone</td>\n",
       "      <td>leave me alone</td>\n",
       "      <td>negative</td>\n",
       "    </tr>\n",
       "    <tr>\n",
       "      <th>4</th>\n",
       "      <td>358bd9e861</td>\n",
       "      <td>Sons of ****, why couldn`t they put them on t...</td>\n",
       "      <td>Sons of ****,</td>\n",
       "      <td>negative</td>\n",
       "    </tr>\n",
       "  </tbody>\n",
       "</table>\n",
       "</div>"
      ],
      "text/plain": [
       "       textID                                               text  \\\n",
       "0  cb774db0d1                I`d have responded, if I were going   \n",
       "1  549e992a42      Sooo SAD I will miss you here in San Diego!!!   \n",
       "2  088c60f138                          my boss is bullying me...   \n",
       "3  9642c003ef                     what interview! leave me alone   \n",
       "4  358bd9e861   Sons of ****, why couldn`t they put them on t...   \n",
       "\n",
       "                         selected_text sentiment  \n",
       "0  I`d have responded, if I were going   neutral  \n",
       "1                             Sooo SAD  negative  \n",
       "2                          bullying me  negative  \n",
       "3                       leave me alone  negative  \n",
       "4                        Sons of ****,  negative  "
      ]
     },
     "execution_count": 24,
     "metadata": {},
     "output_type": "execute_result"
    }
   ],
   "source": [
    "train.head()"
   ]
  },
  {
   "cell_type": "code",
   "execution_count": 25,
   "id": "f35d97d4",
   "metadata": {
    "cell_id": "00004-3a0e8ff5-8fac-461d-98f9-67b8d4cb0924",
    "deepnote_cell_type": "code",
    "deepnote_to_be_reexecuted": false,
    "execution_millis": 5,
    "execution_start": 1623242055891,
    "source_hash": "29a24ea7"
   },
   "outputs": [
    {
     "data": {
      "text/plain": [
       "textID           0\n",
       "text             1\n",
       "selected_text    1\n",
       "sentiment        0\n",
       "dtype: int64"
      ]
     },
     "execution_count": 25,
     "metadata": {},
     "output_type": "execute_result"
    }
   ],
   "source": [
    "#Missing values in training set\n",
    "train.isnull().sum()"
   ]
  },
  {
   "cell_type": "code",
   "execution_count": 26,
   "id": "de0820b2",
   "metadata": {
    "cell_id": "00005-c685d17c-4ff6-4906-936e-2c25915b27b0",
    "deepnote_cell_type": "code",
    "deepnote_to_be_reexecuted": false,
    "execution_millis": 7,
    "execution_start": 1623242055946,
    "source_hash": "32f1e56"
   },
   "outputs": [
    {
     "data": {
      "text/plain": [
       "textID       0\n",
       "text         0\n",
       "sentiment    0\n",
       "dtype: int64"
      ]
     },
     "execution_count": 26,
     "metadata": {},
     "output_type": "execute_result"
    }
   ],
   "source": [
    "#Missing values in test set\n",
    "test.isnull().sum()"
   ]
  },
  {
   "cell_type": "code",
   "execution_count": 27,
   "id": "cfdad612",
   "metadata": {
    "cell_id": "00006-27f44ab0-3767-42a5-a4eb-92d935c0e80e",
    "deepnote_cell_type": "code",
    "deepnote_to_be_reexecuted": false,
    "execution_millis": 0,
    "execution_start": 1623242055947,
    "source_hash": "87e2d70a"
   },
   "outputs": [],
   "source": [
    "train.dropna(axis=0, inplace=True)"
   ]
  },
  {
   "cell_type": "code",
   "execution_count": 28,
   "id": "696d3691",
   "metadata": {
    "cell_id": "00007-21cb38d0-0b44-4a41-8cf6-6bf39c050969",
    "deepnote_cell_type": "code",
    "deepnote_to_be_reexecuted": false,
    "execution_millis": 6,
    "execution_start": 1623242055947,
    "source_hash": "f8683763",
    "tags": []
   },
   "outputs": [
    {
     "data": {
      "text/plain": [
       "textID           0\n",
       "text             0\n",
       "selected_text    0\n",
       "sentiment        0\n",
       "dtype: int64"
      ]
     },
     "execution_count": 28,
     "metadata": {},
     "output_type": "execute_result"
    }
   ],
   "source": [
    "train.isnull().sum()"
   ]
  },
  {
   "cell_type": "code",
   "execution_count": 29,
   "id": "fc07bc4d",
   "metadata": {
    "cell_id": "00008-592da630-d636-49a2-8139-76d8928837e5",
    "deepnote_cell_type": "code",
    "deepnote_to_be_reexecuted": false,
    "execution_millis": 15,
    "execution_start": 1623244216583,
    "source_hash": "18bc5b07",
    "tags": []
   },
   "outputs": [
    {
     "data": {
      "text/plain": [
       "textID           0\n",
       "text             0\n",
       "selected_text    0\n",
       "sentiment        0\n",
       "dtype: int64"
      ]
     },
     "execution_count": 29,
     "metadata": {},
     "output_type": "execute_result"
    }
   ],
   "source": [
    "airline.isna().sum().sort_values(ascending=False) #NaN count for each column"
   ]
  },
  {
   "cell_type": "code",
   "execution_count": 30,
   "id": "a478ab3b",
   "metadata": {
    "cell_id": "00008-6e28b6ac-cc7b-4020-8b0e-43efc20f7a1c",
    "deepnote_cell_type": "code",
    "deepnote_to_be_reexecuted": false,
    "execution_millis": 4,
    "execution_start": 1623244218048,
    "source_hash": "6ce8c9b7",
    "tags": []
   },
   "outputs": [],
   "source": [
    "train = train[train.sentiment != \"neutral\"]\n",
    "test = test[test.sentiment != \"neutral\"]\n"
   ]
  },
  {
   "cell_type": "code",
   "execution_count": 31,
   "id": "3a462bff",
   "metadata": {
    "cell_id": "00009-cdc48601-5ce2-4778-b868-e6f20eea78eb",
    "deepnote_cell_type": "code",
    "deepnote_to_be_reexecuted": false,
    "execution_millis": 1,
    "execution_start": 1623248929371,
    "source_hash": "f64d71a",
    "tags": []
   },
   "outputs": [],
   "source": [
    "train[\"sentiment\"] = train[\"sentiment\"].map({'positive' : 1, \"negative\" : 0})"
   ]
  },
  {
   "cell_type": "code",
   "execution_count": 32,
   "id": "856226ad",
   "metadata": {
    "cell_id": "00010-9361d481-5440-4fa6-8d84-533b74da6afb",
    "deepnote_cell_type": "code",
    "deepnote_to_be_reexecuted": false,
    "execution_millis": 11,
    "execution_start": 1623248933880,
    "source_hash": "91f11005",
    "tags": []
   },
   "outputs": [],
   "source": [
    "test[\"sentiment\"] = test[\"sentiment\"].map({'positive' : 1, \"negative\" : 0})"
   ]
  },
  {
   "cell_type": "code",
   "execution_count": null,
   "id": "360e568a",
   "metadata": {},
   "outputs": [],
   "source": []
  },
  {
   "cell_type": "code",
   "execution_count": 33,
   "id": "57c0197c",
   "metadata": {
    "cell_id": "00008-e8c0147b-0960-4df0-9dbb-45272530de0b",
    "deepnote_cell_type": "code",
    "deepnote_to_be_reexecuted": false,
    "execution_millis": 10,
    "execution_start": 1623248939212,
    "source_hash": "34aac179"
   },
   "outputs": [
    {
     "data": {
      "text/plain": [
       "1    8582\n",
       "0    7781\n",
       "Name: sentiment, dtype: int64"
      ]
     },
     "execution_count": 33,
     "metadata": {},
     "output_type": "execute_result"
    }
   ],
   "source": [
    "train.sentiment.value_counts()"
   ]
  },
  {
   "cell_type": "code",
   "execution_count": 34,
   "id": "da84bef1",
   "metadata": {
    "cell_id": "00009-847214d9-130f-42c2-af06-ad6eb7dfecb1",
    "deepnote_cell_type": "code",
    "deepnote_to_be_reexecuted": false,
    "execution_millis": 142,
    "execution_start": 1623242055995,
    "source_hash": "3dadb53d"
   },
   "outputs": [
    {
     "data": {
      "text/plain": [
       "<AxesSubplot:xlabel='sentiment', ylabel='count'>"
      ]
     },
     "execution_count": 34,
     "metadata": {},
     "output_type": "execute_result"
    },
    {
     "data": {
      "image/png": "[encoded data removed]",
      "text/plain": [
       "<Figure size 432x288 with 1 Axes>"
      ]
     },
     "metadata": {
      "needs_background": "light"
     },
     "output_type": "display_data"
    }
   ],
   "source": [
    "sns.countplot(x='sentiment',data=train)"
   ]
  },
  {
   "cell_type": "code",
   "execution_count": 35,
   "id": "99270f50",
   "metadata": {
    "cell_id": "00010-6c1228c5-1675-4364-99e9-26d5c4d9c671",
    "deepnote_cell_type": "code",
    "deepnote_to_be_reexecuted": false,
    "execution_millis": 7,
    "execution_start": 1623242056187,
    "source_hash": "3bac2cca"
   },
   "outputs": [
    {
     "data": {
      "text/plain": [
       "1    1103\n",
       "0    1001\n",
       "Name: sentiment, dtype: int64"
      ]
     },
     "execution_count": 35,
     "metadata": {},
     "output_type": "execute_result"
    }
   ],
   "source": [
    "test.sentiment.value_counts()"
   ]
  },
  {
   "cell_type": "code",
   "execution_count": 36,
   "id": "bbd46500",
   "metadata": {
    "cell_id": "00011-b45f97df-408c-4366-9ff3-bc5162a1b869",
    "deepnote_cell_type": "code",
    "deepnote_to_be_reexecuted": false,
    "execution_millis": 113,
    "execution_start": 1623242056188,
    "source_hash": "169ab7a1"
   },
   "outputs": [
    {
     "data": {
      "text/plain": [
       "<AxesSubplot:xlabel='sentiment', ylabel='count'>"
      ]
     },
     "execution_count": 36,
     "metadata": {},
     "output_type": "execute_result"
    },
    {
     "data": {
      "image/png": "[encoded data removed]",
      "text/plain": [
       "<Figure size 432x288 with 1 Axes>"
      ]
     },
     "metadata": {
      "needs_background": "light"
     },
     "output_type": "display_data"
    }
   ],
   "source": [
    "sns.countplot(x='sentiment',data=test)"
   ]
  },
  {
   "cell_type": "code",
   "execution_count": 37,
   "id": "e5b32a94",
   "metadata": {
    "cell_id": "00024-2f81fc1f-2e95-4504-bb73-c0b0bd592fe7",
    "deepnote_cell_type": "code",
    "deepnote_to_be_reexecuted": false,
    "execution_millis": 1,
    "execution_start": 1623248969981,
    "source_hash": "11df5995",
    "tags": []
   },
   "outputs": [],
   "source": [
    "data = pd.concat([airline, train], axis=0)"
   ]
  },
  {
   "cell_type": "code",
   "execution_count": 38,
   "id": "bf9cb4ff",
   "metadata": {
    "cell_id": "00025-37d2d745-45dc-497b-9a33-87cfb0cf55b5",
    "deepnote_cell_type": "code",
    "deepnote_to_be_reexecuted": false,
    "execution_millis": 7,
    "execution_start": 1623248970824,
    "source_hash": "1df7ce5c",
    "tags": []
   },
   "outputs": [
    {
     "data": {
      "text/plain": [
       "0    16959\n",
       "1    10945\n",
       "Name: sentiment, dtype: int64"
      ]
     },
     "execution_count": 38,
     "metadata": {},
     "output_type": "execute_result"
    }
   ],
   "source": [
    "data.sentiment.value_counts()"
   ]
  },
  {
   "cell_type": "code",
   "execution_count": 39,
   "id": "7c10fa59",
   "metadata": {
    "cell_id": "00019-2a6cfc96-d89e-4d71-88f8-af00e6f55dd1",
    "deepnote_cell_type": "code",
    "deepnote_to_be_reexecuted": false,
    "execution_millis": 0,
    "execution_start": 1623246707590,
    "source_hash": "d0dc5dde",
    "tags": []
   },
   "outputs": [],
   "source": [
    "#train[train['text'].str.contains(\"\\*\\*\\*\\*\")]\n",
    "\n",
    "#train[train['text'].str.contains(\"\\**\")|train['text'].str.contains(\"x*\")]"
   ]
  },
  {
   "cell_type": "code",
   "execution_count": 40,
   "id": "24a9785a",
   "metadata": {
    "cell_id": "00012-ef2eb428-01b5-4ec7-a08d-ec2907dc813c",
    "deepnote_cell_type": "code",
    "deepnote_to_be_reexecuted": false,
    "execution_millis": 2098,
    "execution_start": 1623313428898,
    "source_hash": "f00b626b"
   },
   "outputs": [],
   "source": [
    "import string\n",
    "from nltk.corpus import stopwords\n",
    "from nltk.tokenize import word_tokenize\n",
    "from nltk.stem import WordNetLemmatizer\n",
    "from nltk.corpus import wordnet\n",
    "from nltk.tokenize import TweetTokenizer\n",
    "stop = set(stopwords.words('french'))\n",
    "nlp=spacy.load(\"fr_core_news_md\")\n",
    "\n",
    "def clean_text(text):\n",
    "    # lower text\n",
    "    text = text.lower()\n",
    "    # remove puncutation\n",
    "    for punctuation in string.punctuation.replace('#',''):\n",
    "        text = text.replace(punctuation, ' ')\n",
    "    # remove words that contain numbers\n",
    "    text = ''.join(letter for letter in text if not letter.isdigit())\n",
    "    #tokenization + remove stop words\n",
    "    doc=nlp(text)\n",
    "    lemmatized= [token.lemma_ for token in doc]\n",
    "    # join all\n",
    "    text = \" \".join(lemmatized)\n",
    "    return text\n",
    " \n",
    "# clean text data\n",
    "#train[\"clean_text\"] = train[\"text\"].apply(clean_text)"
   ]
  },
  {
   "cell_type": "code",
   "execution_count": 41,
   "id": "d3ccdfd9",
   "metadata": {
    "cell_id": "00028-8296eed7-4a8f-4430-8e98-c52a140daa3b",
    "deepnote_cell_type": "code",
    "deepnote_to_be_reexecuted": false,
    "execution_millis": 5825,
    "execution_start": 1623249045234,
    "source_hash": "430bcacf",
    "tags": []
   },
   "outputs": [],
   "source": [
    "data[\"clean_text\"] = data[\"text\"].apply(clean_text)"
   ]
  },
  {
   "cell_type": "code",
   "execution_count": null,
   "id": "4e48fd1b",
   "metadata": {},
   "outputs": [],
   "source": [
    "data.to_csv(\"../raw_data/ata/data_clean.csv\", index=False)"
   ]
  },
  {
   "cell_type": "code",
   "execution_count": 42,
   "id": "4b29bafd",
   "metadata": {
    "cell_id": "00032-005a9ca9-ed93-4b59-b5d6-082b4b48fb45",
    "deepnote_cell_type": "code",
    "deepnote_to_be_reexecuted": false,
    "execution_millis": 26,
    "execution_start": 1623312763494,
    "source_hash": "e7c467e6",
    "tags": []
   },
   "outputs": [
    {
     "data": {
      "text/plain": [
       "0    771604\n",
       "1    755120\n",
       "Name: label, dtype: int64"
      ]
     },
     "execution_count": 42,
     "metadata": {},
     "output_type": "execute_result"
    }
   ],
   "source": [
    "french.label.value_counts()"
   ]
  },
  {
   "cell_type": "code",
   "execution_count": 43,
   "id": "0f1bd5be",
   "metadata": {
    "cell_id": "00031-5a62f6e8-edc1-4bf1-9211-80f52476d0ab",
    "deepnote_cell_type": "code",
    "deepnote_to_be_reexecuted": false,
    "execution_millis": 106,
    "execution_start": 1623312497833,
    "source_hash": "50f515ba",
    "tags": []
   },
   "outputs": [],
   "source": [
    "#french_train_1 = french[0:30000]\n",
    "#print(french_train_1[:3])\n",
    "#french_train_1.value_counts()"
   ]
  },
  {
   "cell_type": "code",
   "execution_count": 44,
   "id": "afa33a38",
   "metadata": {
    "cell_id": "00034-82272171-afb5-4400-9659-6619944e895f",
    "deepnote_cell_type": "code",
    "deepnote_to_be_reexecuted": false,
    "execution_millis": 274696,
    "execution_start": 1623313584040,
    "source_hash": "b19af8df",
    "tags": []
   },
   "outputs": [
    {
     "data": {
      "text/html": [
       "<div>\n",
       "<style scoped>\n",
       "    .dataframe tbody tr th:only-of-type {\n",
       "        vertical-align: middle;\n",
       "    }\n",
       "\n",
       "    .dataframe tbody tr th {\n",
       "        vertical-align: top;\n",
       "    }\n",
       "\n",
       "    .dataframe thead th {\n",
       "        text-align: right;\n",
       "    }\n",
       "</style>\n",
       "<table border=\"1\" class=\"dataframe\">\n",
       "  <thead>\n",
       "    <tr style=\"text-align: right;\">\n",
       "      <th></th>\n",
       "      <th>label</th>\n",
       "      <th>text</th>\n",
       "      <th>clean_text</th>\n",
       "    </tr>\n",
       "  </thead>\n",
       "  <tbody>\n",
       "    <tr>\n",
       "      <th>771604</th>\n",
       "      <td>1</td>\n",
       "      <td>Je vous aime, les gars sont les meilleurs!</td>\n",
       "      <td>je vous aime   le gars être le meilleur</td>\n",
       "    </tr>\n",
       "    <tr>\n",
       "      <th>771605</th>\n",
       "      <td>1</td>\n",
       "      <td>Je me retrouve avec un de mes besties ce soir!...</td>\n",
       "      <td>je me retrouve avec un de mon bestie ce soir  ...</td>\n",
       "    </tr>\n",
       "    <tr>\n",
       "      <th>771606</th>\n",
       "      <td>1</td>\n",
       "      <td>Merci pour l'ajout de Twitter, sunisa! Je dois...</td>\n",
       "      <td>merci pour l ajout de twitter   sunisa   je de...</td>\n",
       "    </tr>\n",
       "    <tr>\n",
       "      <th>771607</th>\n",
       "      <td>1</td>\n",
       "      <td>Être malade peut être vraiment bon marché quan...</td>\n",
       "      <td>être malade pouvoir être vraiment bon marché q...</td>\n",
       "    </tr>\n",
       "    <tr>\n",
       "      <th>771608</th>\n",
       "      <td>1</td>\n",
       "      <td>Il a cet effet sur tout le monde</td>\n",
       "      <td>il avoir ce effet sur tout le monde</td>\n",
       "    </tr>\n",
       "  </tbody>\n",
       "</table>\n",
       "</div>"
      ],
      "text/plain": [
       "        label                                               text  \\\n",
       "771604      1         Je vous aime, les gars sont les meilleurs!   \n",
       "771605      1  Je me retrouve avec un de mes besties ce soir!...   \n",
       "771606      1  Merci pour l'ajout de Twitter, sunisa! Je dois...   \n",
       "771607      1  Être malade peut être vraiment bon marché quan...   \n",
       "771608      1                   Il a cet effet sur tout le monde   \n",
       "\n",
       "                                               clean_text  \n",
       "771604            je vous aime   le gars être le meilleur  \n",
       "771605  je me retrouve avec un de mon bestie ce soir  ...  \n",
       "771606  merci pour l ajout de twitter   sunisa   je de...  \n",
       "771607  être malade pouvoir être vraiment bon marché q...  \n",
       "771608                il avoir ce effet sur tout le monde  "
      ]
     },
     "execution_count": 44,
     "metadata": {},
     "output_type": "execute_result"
    }
   ],
   "source": [
    "french_train_1['clean_text'] = french_train_1['text'].apply(clean_text)\n",
    "french_train_1.head()"
   ]
  },
  {
   "cell_type": "code",
   "execution_count": 45,
   "id": "ccb6df34",
   "metadata": {
    "cell_id": "00015-22d84634-82e5-4b01-91b9-b1275c105e46",
    "deepnote_cell_type": "code",
    "deepnote_to_be_reexecuted": false,
    "execution_millis": 322,
    "execution_start": 1623242061502,
    "source_hash": "1743f88a",
    "tags": []
   },
   "outputs": [],
   "source": [
    "t = test[\"text\"].apply(clean_text)"
   ]
  },
  {
   "cell_type": "code",
   "execution_count": 47,
   "id": "84af2da1",
   "metadata": {},
   "outputs": [
    {
     "data": {
      "text/html": [
       "<div>\n",
       "<style scoped>\n",
       "    .dataframe tbody tr th:only-of-type {\n",
       "        vertical-align: middle;\n",
       "    }\n",
       "\n",
       "    .dataframe tbody tr th {\n",
       "        vertical-align: top;\n",
       "    }\n",
       "\n",
       "    .dataframe thead th {\n",
       "        text-align: right;\n",
       "    }\n",
       "</style>\n",
       "<table border=\"1\" class=\"dataframe\">\n",
       "  <thead>\n",
       "    <tr style=\"text-align: right;\">\n",
       "      <th></th>\n",
       "      <th>textID</th>\n",
       "      <th>text</th>\n",
       "      <th>selected_text</th>\n",
       "      <th>sentiment</th>\n",
       "    </tr>\n",
       "  </thead>\n",
       "  <tbody>\n",
       "    <tr>\n",
       "      <th>1</th>\n",
       "      <td>549e992a42</td>\n",
       "      <td>Sooo SAD I will miss you here in San Diego!!!</td>\n",
       "      <td>Sooo SAD</td>\n",
       "      <td>0</td>\n",
       "    </tr>\n",
       "    <tr>\n",
       "      <th>2</th>\n",
       "      <td>088c60f138</td>\n",
       "      <td>my boss is bullying me...</td>\n",
       "      <td>bullying me</td>\n",
       "      <td>0</td>\n",
       "    </tr>\n",
       "    <tr>\n",
       "      <th>3</th>\n",
       "      <td>9642c003ef</td>\n",
       "      <td>what interview! leave me alone</td>\n",
       "      <td>leave me alone</td>\n",
       "      <td>0</td>\n",
       "    </tr>\n",
       "    <tr>\n",
       "      <th>4</th>\n",
       "      <td>358bd9e861</td>\n",
       "      <td>Sons of ****, why couldn`t they put them on t...</td>\n",
       "      <td>Sons of ****,</td>\n",
       "      <td>0</td>\n",
       "    </tr>\n",
       "    <tr>\n",
       "      <th>6</th>\n",
       "      <td>6e0c6d75b1</td>\n",
       "      <td>2am feedings for the baby are fun when he is a...</td>\n",
       "      <td>fun</td>\n",
       "      <td>1</td>\n",
       "    </tr>\n",
       "  </tbody>\n",
       "</table>\n",
       "</div>"
      ],
      "text/plain": [
       "       textID                                               text  \\\n",
       "1  549e992a42      Sooo SAD I will miss you here in San Diego!!!   \n",
       "2  088c60f138                          my boss is bullying me...   \n",
       "3  9642c003ef                     what interview! leave me alone   \n",
       "4  358bd9e861   Sons of ****, why couldn`t they put them on t...   \n",
       "6  6e0c6d75b1  2am feedings for the baby are fun when he is a...   \n",
       "\n",
       "    selected_text  sentiment  \n",
       "1        Sooo SAD          0  \n",
       "2     bullying me          0  \n",
       "3  leave me alone          0  \n",
       "4   Sons of ****,          0  \n",
       "6             fun          1  "
      ]
     },
     "execution_count": 47,
     "metadata": {},
     "output_type": "execute_result"
    }
   ],
   "source": [
    "train.head()"
   ]
  },
  {
   "cell_type": "code",
   "execution_count": 50,
   "id": "9e438c26",
   "metadata": {
    "cell_id": "00015-e356912b-5f74-4957-b142-b8555578e3e0",
    "deepnote_cell_type": "code",
    "deepnote_to_be_reexecuted": false,
    "execution_millis": 8,
    "execution_start": 1623242061831,
    "source_hash": "a06d93cb",
    "tags": []
   },
   "outputs": [],
   "source": [
    "#positive_text = train[train['sentiment'] == 1]['clean_text']\n",
    "#negative_text = train[train['sentiment'] == 0]['clean_text']"
   ]
  },
  {
   "cell_type": "code",
   "execution_count": null,
   "id": "e8380520",
   "metadata": {
    "cell_id": "00016-02064500-790a-4477-8683-a13d9190342d",
    "deepnote_cell_type": "code",
    "deepnote_to_be_reexecuted": false,
    "execution_millis": 3015,
    "execution_start": 1623242061851,
    "source_hash": "69acb339",
    "tags": []
   },
   "outputs": [],
   "source": [
    "!pip install wordcloud==1.8.1"
   ]
  },
  {
   "cell_type": "code",
   "execution_count": null,
   "id": "9c2214cd",
   "metadata": {
    "cell_id": "00016-46952de6-07ea-4367-81c3-560ebbaceed5",
    "deepnote_cell_type": "code",
    "deepnote_to_be_reexecuted": false,
    "execution_millis": 5098,
    "execution_start": 1623242064874,
    "source_hash": "e32ffa0",
    "tags": []
   },
   "outputs": [],
   "source": [
    "from wordcloud import WordCloud\n",
    "fig, (ax1, ax2) = plt.subplots(1, 2, figsize=[30, 15])\n",
    "cloud1 = WordCloud( background_color='white',\n",
    "                        width=800,\n",
    "                        height=600).generate(\" \".join(positive_text))\n",
    "ax1.imshow(cloud1)\n",
    "ax1.axis('off')\n",
    "ax1.set_title('Positive text',fontsize=35);\n",
    "\n",
    "cloud2 = WordCloud( background_color='white',\n",
    "                        width=800,\n",
    "                        height=600).generate(\" \".join(negative_text))\n",
    "ax2.imshow(cloud2)\n",
    "ax2.axis('off')\n",
    "ax2.set_title('Negative text',fontsize=35);"
   ]
  },
  {
   "cell_type": "code",
   "execution_count": null,
   "id": "61044501",
   "metadata": {
    "cell_id": "00024-56a05124-c925-425a-b90c-cd1e5fbace37",
    "deepnote_cell_type": "code",
    "deepnote_to_be_reexecuted": false,
    "execution_millis": 3,
    "execution_start": 1623244789784,
    "source_hash": "e20c1178",
    "tags": []
   },
   "outputs": [],
   "source": [
    "result = train.text.str.findall('^\\*\\*\\*\\*$')"
   ]
  },
  {
   "cell_type": "code",
   "execution_count": null,
   "id": "4b51a354",
   "metadata": {
    "cell_id": "00016-99761a61-df86-4638-82bd-aba1d9f72224",
    "deepnote_cell_type": "code",
    "deepnote_to_be_reexecuted": true,
    "source_hash": "7e55d226"
   },
   "outputs": [],
   "source": [
    "# train.text.str.findall('https?://\\S+|www\\.\\S+')"
   ]
  },
  {
   "cell_type": "code",
   "execution_count": null,
   "id": "3d32a57a",
   "metadata": {
    "cell_id": "00016-db957249-9eb6-4b27-9121-350e7c51a756",
    "deepnote_cell_type": "code",
    "deepnote_to_be_reexecuted": true,
    "execution_millis": 1,
    "execution_start": 1623165492694,
    "source_hash": "73bade51",
    "tags": []
   },
   "outputs": [],
   "source": [
    "#X= train['clean_text']\n",
    "#y= train['sentiment']\n",
    "\n",
    "#X_train, X_test, y_train, y_test = train_test_split(\n",
    "#    X, y, test_size=0.33, random_state=42)"
   ]
  },
  {
   "cell_type": "code",
   "execution_count": null,
   "id": "12666fbc",
   "metadata": {
    "cell_id": "00036-6aacc9e0-e247-4c29-abdb-7878c84958ce",
    "deepnote_cell_type": "code",
    "deepnote_to_be_reexecuted": false,
    "execution_millis": 15,
    "execution_start": 1623249065402,
    "source_hash": "1df7ce5c",
    "tags": []
   },
   "outputs": [],
   "source": [
    "data.sentiment.value_counts()"
   ]
  },
  {
   "cell_type": "code",
   "execution_count": 48,
   "id": "3decfac9",
   "metadata": {},
   "outputs": [
    {
     "data": {
      "text/html": [
       "<div>\n",
       "<style scoped>\n",
       "    .dataframe tbody tr th:only-of-type {\n",
       "        vertical-align: middle;\n",
       "    }\n",
       "\n",
       "    .dataframe tbody tr th {\n",
       "        vertical-align: top;\n",
       "    }\n",
       "\n",
       "    .dataframe thead th {\n",
       "        text-align: right;\n",
       "    }\n",
       "</style>\n",
       "<table border=\"1\" class=\"dataframe\">\n",
       "  <thead>\n",
       "    <tr style=\"text-align: right;\">\n",
       "      <th></th>\n",
       "      <th>label</th>\n",
       "      <th>text</th>\n",
       "      <th>clean_text</th>\n",
       "    </tr>\n",
       "  </thead>\n",
       "  <tbody>\n",
       "    <tr>\n",
       "      <th>771604</th>\n",
       "      <td>1</td>\n",
       "      <td>Je vous aime, les gars sont les meilleurs!</td>\n",
       "      <td>je vous aime   le gars être le meilleur</td>\n",
       "    </tr>\n",
       "    <tr>\n",
       "      <th>771605</th>\n",
       "      <td>1</td>\n",
       "      <td>Je me retrouve avec un de mes besties ce soir!...</td>\n",
       "      <td>je me retrouve avec un de mon bestie ce soir  ...</td>\n",
       "    </tr>\n",
       "    <tr>\n",
       "      <th>771606</th>\n",
       "      <td>1</td>\n",
       "      <td>Merci pour l'ajout de Twitter, sunisa! Je dois...</td>\n",
       "      <td>merci pour l ajout de twitter   sunisa   je de...</td>\n",
       "    </tr>\n",
       "    <tr>\n",
       "      <th>771607</th>\n",
       "      <td>1</td>\n",
       "      <td>Être malade peut être vraiment bon marché quan...</td>\n",
       "      <td>être malade pouvoir être vraiment bon marché q...</td>\n",
       "    </tr>\n",
       "    <tr>\n",
       "      <th>771608</th>\n",
       "      <td>1</td>\n",
       "      <td>Il a cet effet sur tout le monde</td>\n",
       "      <td>il avoir ce effet sur tout le monde</td>\n",
       "    </tr>\n",
       "  </tbody>\n",
       "</table>\n",
       "</div>"
      ],
      "text/plain": [
       "        label                                               text  \\\n",
       "771604      1         Je vous aime, les gars sont les meilleurs!   \n",
       "771605      1  Je me retrouve avec un de mes besties ce soir!...   \n",
       "771606      1  Merci pour l'ajout de Twitter, sunisa! Je dois...   \n",
       "771607      1  Être malade peut être vraiment bon marché quan...   \n",
       "771608      1                   Il a cet effet sur tout le monde   \n",
       "\n",
       "                                               clean_text  \n",
       "771604            je vous aime   le gars être le meilleur  \n",
       "771605  je me retrouve avec un de mon bestie ce soir  ...  \n",
       "771606  merci pour l ajout de twitter   sunisa   je de...  \n",
       "771607  être malade pouvoir être vraiment bon marché q...  \n",
       "771608                il avoir ce effet sur tout le monde  "
      ]
     },
     "execution_count": 48,
     "metadata": {},
     "output_type": "execute_result"
    }
   ],
   "source": [
    "french_train_1.head()"
   ]
  },
  {
   "cell_type": "code",
   "execution_count": 51,
   "id": "21b3468d",
   "metadata": {
    "cell_id": "00040-de23da31-e6e5-4a9c-8134-761c18f937f1",
    "deepnote_cell_type": "code",
    "deepnote_to_be_reexecuted": false,
    "execution_millis": 254362,
    "execution_start": 1623313900933,
    "source_hash": "71b0f404",
    "tags": []
   },
   "outputs": [
    {
     "name": "stdout",
     "output_type": "stream",
     "text": [
      "Fitting 10 folds for each of 15 candidates, totalling 150 fits\n"
     ]
    },
    {
     "name": "stderr",
     "output_type": "stream",
     "text": [
      "[Parallel(n_jobs=-1)]: Using backend LokyBackend with 8 concurrent workers.\n",
      "[Parallel(n_jobs=-1)]: Done  34 tasks      | elapsed:   11.4s\n",
      "[Parallel(n_jobs=-1)]: Done 150 out of 150 | elapsed:   21.0s finished\n"
     ]
    },
    {
     "data": {
      "text/plain": [
       "GridSearchCV(cv=10, error_score=nan,\n",
       "             estimator=Pipeline(memory=None,\n",
       "                                steps=[('tfidf',\n",
       "                                        TfidfVectorizer(analyzer='word',\n",
       "                                                        binary=False,\n",
       "                                                        decode_error='strict',\n",
       "                                                        dtype=<class 'numpy.float64'>,\n",
       "                                                        encoding='utf-8',\n",
       "                                                        input='content',\n",
       "                                                        lowercase=True,\n",
       "                                                        max_df=1.0,\n",
       "                                                        max_features=None,\n",
       "                                                        min_df=1,\n",
       "                                                        ngram_range=(1, 1),\n",
       "                                                        norm='l2',\n",
       "                                                        preprocessor=None,\n",
       "                                                        smooth_idf=True,\n",
       "                                                        stop_words=None,\n",
       "                                                        strip_ac...\n",
       "                                                        token_pattern='(?u)\\\\b\\\\w\\\\w+\\\\b',\n",
       "                                                        tokenizer=None,\n",
       "                                                        use_idf=True,\n",
       "                                                        vocabulary=None)),\n",
       "                                       ('nb',\n",
       "                                        MultinomialNB(alpha=1.0,\n",
       "                                                      class_prior=None,\n",
       "                                                      fit_prior=True))],\n",
       "                                verbose=False),\n",
       "             iid='deprecated', n_jobs=-1,\n",
       "             param_grid={'nb__alpha': (0.1, 1, 10),\n",
       "                         'tfidf__ngram_range': ((1, 1), (2, 2), (1, 2), (2, 3),\n",
       "                                                (3, 3))},\n",
       "             pre_dispatch='2*n_jobs', refit=True, return_train_score=False,\n",
       "             scoring='accuracy', verbose=1)"
      ]
     },
     "execution_count": 51,
     "metadata": {},
     "output_type": "execute_result"
    }
   ],
   "source": [
    "# Iteration for French\n",
    "\n",
    "from sklearn.model_selection import GridSearchCV\n",
    "from sklearn.pipeline import Pipeline\n",
    "from sklearn.naive_bayes import MultinomialNB\n",
    "from sklearn.feature_extraction.text import TfidfVectorizer\n",
    "\n",
    "X= french_train_1['clean_text']\n",
    "y= french_train_1['label']\n",
    "model_dict = {'alias' : 'nb',\n",
    "              'model' : MultinomialNB(),\n",
    "              'model_name' : \"MultinomialNB\"}\n",
    "\n",
    "# Create Pipeline\n",
    "pipeline = Pipeline([\n",
    "    ('tfidf', TfidfVectorizer()),\n",
    "    (model_dict['alias'], model_dict['model']),\n",
    "])\n",
    "\n",
    "# Set parameters to search\n",
    "parameters = {\n",
    "    'tfidf__ngram_range': ((1,1), (2,2), (1,2), (2,3), (3,3)),\n",
    "    'nb__alpha': (0.1, 1, 10),}\n",
    "\n",
    "# Perform grid search\n",
    "grid_search = GridSearchCV(pipeline, parameters, n_jobs=-1, \n",
    "                           verbose=1, scoring = \"accuracy\", \n",
    "                           refit=True, cv=10)\n",
    "\n",
    "grid_search.fit(X,y)"
   ]
  },
  {
   "cell_type": "code",
   "execution_count": 52,
   "id": "53162d5a",
   "metadata": {
    "cell_id": "00044-13db36a6-6bee-45d0-84c6-666e70c9c6ff",
    "deepnote_cell_type": "code",
    "deepnote_to_be_reexecuted": false,
    "execution_millis": 14,
    "execution_start": 1623314187775,
    "source_hash": "655fe0b1",
    "tags": []
   },
   "outputs": [
    {
     "data": {
      "text/plain": [
       "0.6950000000000001"
      ]
     },
     "execution_count": 52,
     "metadata": {},
     "output_type": "execute_result"
    }
   ],
   "source": [
    "grid_search.best_score_"
   ]
  },
  {
   "cell_type": "code",
   "execution_count": 54,
   "id": "fc7c94eb",
   "metadata": {},
   "outputs": [
    {
     "data": {
      "text/plain": [
       "Pipeline(memory=None,\n",
       "         steps=[('tfidf',\n",
       "                 TfidfVectorizer(analyzer='word', binary=False,\n",
       "                                 decode_error='strict',\n",
       "                                 dtype=<class 'numpy.float64'>,\n",
       "                                 encoding='utf-8', input='content',\n",
       "                                 lowercase=True, max_df=1.0, max_features=None,\n",
       "                                 min_df=1, ngram_range=(1, 1), norm='l2',\n",
       "                                 preprocessor=None, smooth_idf=True,\n",
       "                                 stop_words=None, strip_accents=None,\n",
       "                                 sublinear_tf=False,\n",
       "                                 token_pattern='(?u)\\\\b\\\\w\\\\w+\\\\b',\n",
       "                                 tokenizer=None, use_idf=True,\n",
       "                                 vocabulary=None)),\n",
       "                ('nb',\n",
       "                 MultinomialNB(alpha=10, class_prior=None, fit_prior=True))],\n",
       "         verbose=False)"
      ]
     },
     "execution_count": 54,
     "metadata": {},
     "output_type": "execute_result"
    }
   ],
   "source": [
    "grid_search.best_estimator_"
   ]
  },
  {
   "cell_type": "code",
   "execution_count": 55,
   "id": "cc96364b",
   "metadata": {
    "cell_id": "00044-cacde1fb-38dd-490d-956f-3bbf75969fd1",
    "deepnote_cell_type": "code",
    "deepnote_to_be_reexecuted": false,
    "execution_millis": 9,
    "execution_start": 1623314226505,
    "source_hash": "d361b2d7",
    "tags": []
   },
   "outputs": [
    {
     "data": {
      "text/plain": [
       "{'nb__alpha': 10, 'tfidf__ngram_range': (1, 1)}"
      ]
     },
     "execution_count": 55,
     "metadata": {},
     "output_type": "execute_result"
    }
   ],
   "source": [
    "grid_search.best_params_"
   ]
  },
  {
   "cell_type": "markdown",
   "id": "2b2d83bc",
   "metadata": {},
   "source": [
    "# ML Flow superpower"
   ]
  },
  {
   "cell_type": "code",
   "execution_count": null,
   "id": "ecdd5139",
   "metadata": {
    "cell_id": "00050-9ecfa2fa-47fc-441b-a31d-a07e44574a3e",
    "deepnote_cell_type": "code",
    "tags": []
   },
   "outputs": [],
   "source": [
    "!pip install mlflow"
   ]
  },
  {
   "cell_type": "code",
   "execution_count": 56,
   "id": "ea7aa60d",
   "metadata": {},
   "outputs": [],
   "source": [
    "import mlflow\n",
    "from  mlflow.tracking import MlflowClient\n",
    "\n",
    "mlflow.set_tracking_uri(\"https://mlflow.lewagon.co/\")\n",
    "\n",
    "EXPERIMENT_NAME = \"[FR] [Marseille] [OM-datalab]\"\n",
    "\n",
    "client = MlflowClient()\n",
    "experiment_id = client.create_experiment(EXPERIMENT_NAME)\n",
    "\n",
    "run = client.create_run(experiment_id)\n",
    "client.log_metric(run.info.run_id, \"accuracy\", grid_search.best_score_)\n",
    "client.log_param(run.info.run_id, \"best_params\", grid_search.best_params_)\n",
    "client.log_param(run.info.run_id, \"model\", model_dict['model_name'])"
   ]
  },
  {
   "cell_type": "code",
   "execution_count": null,
   "id": "3a25a62f",
   "metadata": {},
   "outputs": [],
   "source": []
  },
  {
   "cell_type": "code",
   "execution_count": null,
   "id": "5390a5bc",
   "metadata": {},
   "outputs": [],
   "source": []
  },
  {
   "cell_type": "code",
   "execution_count": null,
   "id": "c59e3b35",
   "metadata": {
    "cell_id": "00037-bf298166-3385-48d6-a7f5-f2840df03983",
    "deepnote_cell_type": "code",
    "deepnote_to_be_reexecuted": false,
    "execution_millis": 135756,
    "execution_start": 1623249087643,
    "source_hash": "76c438ae",
    "tags": []
   },
   "outputs": [],
   "source": [
    "# Iteration with data merge\n",
    "\n",
    "from sklearn.model_selection import GridSearchCV\n",
    "from sklearn.pipeline import Pipeline\n",
    "from sklearn.naive_bayes import MultinomialNB\n",
    "from sklearn.feature_extraction.text import TfidfVectorizer\n",
    "\n",
    "X= data['clean_text']\n",
    "y= data['sentiment']\n",
    "\n",
    "# Create Pipeline\n",
    "pipeline = Pipeline([\n",
    "    ('tfidf', TfidfVectorizer()),\n",
    "    ('nb', MultinomialNB()),\n",
    "])\n",
    "\n",
    "# Set parameters to search\n",
    "parameters = {\n",
    "    'tfidf__ngram_range': ((1,1), (2,2), (1,2), (2,3), (3,3)),\n",
    "    'nb__alpha': (0.1, 1, 10),}\n",
    "\n",
    "# Perform grid search\n",
    "grid_search = GridSearchCV(pipeline, parameters, n_jobs=-1, \n",
    "                           verbose=1, scoring = \"accuracy\", \n",
    "                           refit=True, cv=10)\n",
    "\n",
    "grid_search.fit(X,y)"
   ]
  },
  {
   "cell_type": "code",
   "execution_count": null,
   "id": "3abdafc4",
   "metadata": {
    "cell_id": "00039-ab0b8121-334c-4742-9172-986cdf7f1fe2",
    "deepnote_cell_type": "code",
    "deepnote_to_be_reexecuted": false,
    "execution_millis": 14,
    "execution_start": 1623249375394,
    "source_hash": "655fe0b1",
    "tags": []
   },
   "outputs": [],
   "source": [
    "grid_search.best_score_"
   ]
  },
  {
   "cell_type": "code",
   "execution_count": null,
   "id": "4171d689",
   "metadata": {
    "cell_id": "00017-12083ff5-9d20-4f31-af1b-31a469b2a641",
    "deepnote_cell_type": "code",
    "deepnote_to_be_reexecuted": false,
    "execution_millis": 70983,
    "execution_start": 1623242102851,
    "source_hash": "6cfbc726"
   },
   "outputs": [],
   "source": [
    "# 1st iteration\n",
    "# First iteration \n",
    "from sklearn.model_selection import GridSearchCV\n",
    "from sklearn.pipeline import Pipeline\n",
    "from sklearn.naive_bayes import MultinomialNB\n",
    "from sklearn.feature_extraction.text import TfidfVectorizer\n",
    "\n",
    "X= train['clean_text']\n",
    "y= train['sentiment']\n",
    "\n",
    "# Create Pipeline\n",
    "pipeline = Pipeline([\n",
    "    ('tfidf', TfidfVectorizer()),\n",
    "    ('nb', MultinomialNB()),\n",
    "])\n",
    "\n",
    "# Set parameters to search\n",
    "parameters = {\n",
    "    'tfidf__ngram_range': ((1,1), (2,2), (1,2), (2,3), (3,3)),\n",
    "    'nb__alpha': (0.1, 1, 10),}\n",
    "\n",
    "# Perform grid search\n",
    "grid_search = GridSearchCV(pipeline, parameters, n_jobs=-1, \n",
    "                           verbose=1, scoring = \"accuracy\", \n",
    "                           refit=True, cv=10)\n",
    "\n",
    "grid_search.fit(X,y)"
   ]
  },
  {
   "cell_type": "code",
   "execution_count": null,
   "id": "628afcd0",
   "metadata": {
    "cell_id": "00021-7bd873bf-02b9-49e5-88fb-fa5fb3d869d8",
    "deepnote_cell_type": "code",
    "deepnote_to_be_reexecuted": false,
    "execution_millis": 5,
    "execution_start": 1623242274886,
    "source_hash": "d361b2d7",
    "tags": []
   },
   "outputs": [],
   "source": [
    "grid_search.best_params_"
   ]
  },
  {
   "cell_type": "code",
   "execution_count": null,
   "id": "d2707522",
   "metadata": {
    "cell_id": "00022-f26414d8-da0f-48a9-b057-1c1bdc6c4dd4",
    "deepnote_cell_type": "code",
    "deepnote_to_be_reexecuted": false,
    "execution_millis": 11,
    "execution_start": 1623242282557,
    "source_hash": "655fe0b1",
    "tags": []
   },
   "outputs": [],
   "source": [
    "grid_search.best_score_"
   ]
  },
  {
   "cell_type": "code",
   "execution_count": null,
   "id": "bae5ddad",
   "metadata": {
    "cell_id": "00024-bb19b288-b332-46c0-8ef2-783c5cfee9fc",
    "deepnote_cell_type": "code",
    "deepnote_to_be_reexecuted": false,
    "execution_millis": 5,
    "execution_start": 1623242288840,
    "source_hash": "8a3043b9",
    "tags": []
   },
   "outputs": [],
   "source": [
    "X_test = t\n",
    "y_test = test['sentiment']\n",
    "pred = grid_search.best_estimator_.predict(X_test)"
   ]
  },
  {
   "cell_type": "code",
   "execution_count": null,
   "id": "f6b9a9ea",
   "metadata": {
    "cell_id": "00023-09ae05b9-9b5d-49ab-a3e2-e9eea29b85cb",
    "deepnote_cell_type": "code",
    "deepnote_to_be_reexecuted": false,
    "execution_millis": 92,
    "execution_start": 1623242291433,
    "source_hash": "88e65abe",
    "tags": []
   },
   "outputs": [],
   "source": [
    "baseline_score = pred\n",
    "grid_search.best_estimator_.score(X_test, y_test)"
   ]
  },
  {
   "cell_type": "code",
   "execution_count": null,
   "id": "cde504a7",
   "metadata": {
    "cell_id": "00026-978aa3f3-596a-4d3a-8a6f-53f903b482d8",
    "deepnote_cell_type": "code",
    "deepnote_to_be_reexecuted": false,
    "execution_millis": 110694,
    "execution_start": 1623242303039,
    "source_hash": "b64afb4f",
    "tags": []
   },
   "outputs": [],
   "source": [
    "# 2nd iteration\n",
    "# Fine tuning the model\n",
    "from sklearn.model_selection import GridSearchCV\n",
    "from sklearn.pipeline import Pipeline\n",
    "from sklearn.naive_bayes import MultinomialNB\n",
    "from sklearn.feature_extraction.text import TfidfVectorizer\n",
    "\n",
    "X= train['clean_text']\n",
    "y= train['sentiment']\n",
    "\n",
    "# Create Pipeline\n",
    "pipeline = Pipeline([\n",
    "    ('tfidf', TfidfVectorizer()),\n",
    "    ('nb', MultinomialNB()),\n",
    "])\n",
    "\n",
    "# Set parameters to search\n",
    "parameters = {\n",
    "    'tfidf__ngram_range': ((1,1), (2,2), (1,2), (2,3), (3,3)),\n",
    "    'nb__alpha': (0.1, 0.5, 1, 5, 10),}\n",
    "\n",
    "# Perform grid search\n",
    "grid_search = GridSearchCV(pipeline, parameters, n_jobs=-1, \n",
    "                           verbose=1, scoring = \"f1\", \n",
    "                           refit=True, cv=10)\n",
    "\n",
    "grid_search.fit(X,y)"
   ]
  },
  {
   "cell_type": "code",
   "execution_count": null,
   "id": "bf0874b9",
   "metadata": {
    "cell_id": "00028-b7c3a182-e228-4d8c-9e67-13c7491ed47a",
    "deepnote_cell_type": "code",
    "deepnote_to_be_reexecuted": false,
    "execution_millis": 9,
    "execution_start": 1623242446227,
    "source_hash": "d361b2d7",
    "tags": []
   },
   "outputs": [],
   "source": [
    "grid_search.best_params_"
   ]
  },
  {
   "cell_type": "code",
   "execution_count": null,
   "id": "a452d424",
   "metadata": {
    "cell_id": "00029-1e783bb3-ae84-4779-9ebf-12e283cf6849",
    "deepnote_cell_type": "code",
    "deepnote_to_be_reexecuted": false,
    "execution_millis": 12,
    "execution_start": 1623242448250,
    "source_hash": "655fe0b1",
    "tags": []
   },
   "outputs": [],
   "source": [
    "grid_search.best_score_"
   ]
  },
  {
   "cell_type": "code",
   "execution_count": null,
   "id": "75f99316",
   "metadata": {
    "cell_id": "00030-9cd076c6-41f9-4a10-b6e7-ef77c655646e",
    "deepnote_cell_type": "code",
    "deepnote_to_be_reexecuted": false,
    "execution_millis": 19,
    "execution_start": 1623242488310,
    "source_hash": "311e961d",
    "tags": []
   },
   "outputs": [],
   "source": [
    "grid_search.best_estimator_.score(X_test, y_test)"
   ]
  },
  {
   "cell_type": "code",
   "execution_count": null,
   "id": "3bf1796a",
   "metadata": {
    "cell_id": "00032-3a64d963-343e-411b-ab17-fb0bfed88833",
    "deepnote_cell_type": "code",
    "deepnote_to_be_reexecuted": false,
    "execution_millis": 23,
    "execution_start": 1623252412132,
    "source_hash": "5a637785",
    "tags": []
   },
   "outputs": [],
   "source": [
    "doc = nlp(u\"voudrais non animaux yeux dors couvre.\")\n",
    "for token in doc:\n",
    "    print(token, token.lemma_)"
   ]
  },
  {
   "cell_type": "code",
   "execution_count": null,
   "id": "6c475d5d",
   "metadata": {
    "cell_id": "00057-5f07821b-10fc-46fd-a48c-848655746c15",
    "deepnote_cell_type": "code",
    "tags": []
   },
   "outputs": [],
   "source": []
  },
  {
   "cell_type": "markdown",
   "id": "b8ac888e",
   "metadata": {
    "created_in_deepnote_cell": true,
    "deepnote_cell_type": "markdown",
    "tags": []
   },
   "source": [
    "<a style='text-decoration:none;line-height:16px;display:flex;color:#5B5B62;padding:10px;justify-content:end;' href='https://deepnote.com?utm_source=created-in-deepnote-cell&projectId=ce82c844-fa70-433d-b480-148c6a0f0f8b' target=\"_blank\">\n",
    "<img alt='Created in deepnote.com' style='display:inline;max-height:16px;margin:0px;margin-right:7.5px;' src='data:image/svg+xml;base64,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' > </img>\n",
    "Created in <span style='font-weight:600;margin-left:4px;'>Deepnote</span></a>"
   ]
  }
 ],
 "metadata": {
  "deepnote": {},
  "deepnote_execution_queue": [],
  "deepnote_notebook_id": "1c79bd73-0466-4ed7-b484-6cb18f9263a9",
  "kernelspec": {
   "display_name": "Python 3",
   "language": "python",
   "name": "python3"
  },
  "language_info": {
   "codemirror_mode": {
    "name": "ipython",
    "version": 3
   },
   "file_extension": ".py",
   "mimetype": "text/x-python",
   "name": "python",
   "nbconvert_exporter": "python",
   "pygments_lexer": "ipython3",
   "version": "3.8.6"
  },
  "toc": {
   "base_numbering": 1,
   "nav_menu": {},
   "number_sections": true,
   "sideBar": true,
   "skip_h1_title": false,
   "title_cell": "Table of Contents",
   "title_sidebar": "Contents",
   "toc_cell": false,
   "toc_position": {},
   "toc_section_display": true,
   "toc_window_display": false
  }
 },
 "nbformat": 4,
 "nbformat_minor": 5
}
