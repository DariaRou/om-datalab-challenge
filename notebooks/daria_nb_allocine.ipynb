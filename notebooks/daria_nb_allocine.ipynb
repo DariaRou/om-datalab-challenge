{
 "cells": [
  {
   "cell_type": "code",
   "execution_count": 1,
   "id": "baade55f",
   "metadata": {
    "cell_id": "00000-c64879c1-1407-43b0-a091-4d2a11183346",
    "deepnote_cell_type": "code",
    "deepnote_to_be_reexecuted": false,
    "execution_millis": 2146,
    "execution_start": 1623242053496,
    "source_hash": "deb6d191"
   },
   "outputs": [],
   "source": [
    "import pandas as pd\n",
    "import numpy as np\n",
    "import os\n",
    "import matplotlib.pyplot as plt\n",
    "import seaborn as sns\n",
    "import nltk\n",
    "from sklearn.model_selection import train_test_split"
   ]
  },
  {
   "cell_type": "code",
   "execution_count": 2,
   "id": "698974b8",
   "metadata": {
    "cell_id": "00001-057c6663-041f-436c-9ded-7eb076b8c232",
    "deepnote_cell_type": "code",
    "deepnote_to_be_reexecuted": false,
    "execution_millis": 97,
    "execution_start": 1623242055649,
    "source_hash": "475aaa0d",
    "tags": []
   },
   "outputs": [
    {
     "name": "stderr",
     "output_type": "stream",
     "text": [
      "[nltk_data] Downloading package stopwords to\n",
      "[nltk_data]     /Users/dariarousset/nltk_data...\n",
      "[nltk_data]   Package stopwords is already up-to-date!\n",
      "[nltk_data] Downloading package punkt to\n",
      "[nltk_data]     /Users/dariarousset/nltk_data...\n",
      "[nltk_data]   Package punkt is already up-to-date!\n",
      "[nltk_data] Downloading package wordnet to\n",
      "[nltk_data]     /Users/dariarousset/nltk_data...\n",
      "[nltk_data]   Package wordnet is already up-to-date!\n"
     ]
    },
    {
     "data": {
      "text/plain": [
       "True"
      ]
     },
     "execution_count": 2,
     "metadata": {},
     "output_type": "execute_result"
    }
   ],
   "source": [
    "import nltk\n",
    "nltk.download('stopwords')\n",
    "nltk.download('punkt')\n",
    "nltk.download('wordnet')"
   ]
  },
  {
   "cell_type": "code",
   "execution_count": 3,
   "id": "13d19c50-f166-4fe6-9b00-e53fb078ca34",
   "metadata": {},
   "outputs": [
    {
     "data": {
      "text/plain": [
       "['.DS_Store',\n",
       " 'french_tweets.csv',\n",
       " 'test.csv',\n",
       " 'train_allo.csv',\n",
       " '.keep',\n",
       " 'train.csv']"
      ]
     },
     "execution_count": 3,
     "metadata": {},
     "output_type": "execute_result"
    }
   ],
   "source": [
    "os.listdir('../raw_data/')"
   ]
  },
  {
   "cell_type": "code",
   "execution_count": 5,
   "id": "e3d0e5d8",
   "metadata": {
    "cell_id": "00002-0c0601cf-d7cc-4e3b-818a-bca2f06a26b1",
    "deepnote_cell_type": "code",
    "deepnote_to_be_reexecuted": false,
    "execution_millis": 2838,
    "execution_start": 1623249869906,
    "source_hash": "c356188c",
    "tags": []
   },
   "outputs": [
    {
     "data": {
      "text/plain": [
       "0    10039\n",
       "1     9961\n",
       "Name: polarity, dtype: int64"
      ]
     },
     "execution_count": 5,
     "metadata": {},
     "output_type": "execute_result"
    }
   ],
   "source": [
    "french = pd.read_csv('../raw_data/train_allo.csv').sample(20000).reset_index(drop=True)\n",
    "french.polarity.value_counts()"
   ]
  },
  {
   "cell_type": "code",
   "execution_count": 6,
   "id": "895b6b1b-0331-4d36-911a-23cb00e19b89",
   "metadata": {},
   "outputs": [
    {
     "data": {
      "text/html": [
       "<div>\n",
       "<style scoped>\n",
       "    .dataframe tbody tr th:only-of-type {\n",
       "        vertical-align: middle;\n",
       "    }\n",
       "\n",
       "    .dataframe tbody tr th {\n",
       "        vertical-align: top;\n",
       "    }\n",
       "\n",
       "    .dataframe thead th {\n",
       "        text-align: right;\n",
       "    }\n",
       "</style>\n",
       "<table border=\"1\" class=\"dataframe\">\n",
       "  <thead>\n",
       "    <tr style=\"text-align: right;\">\n",
       "      <th></th>\n",
       "      <th>Unnamed: 0</th>\n",
       "      <th>film-url</th>\n",
       "      <th>review</th>\n",
       "      <th>polarity</th>\n",
       "    </tr>\n",
       "  </thead>\n",
       "  <tbody>\n",
       "    <tr>\n",
       "      <th>0</th>\n",
       "      <td>3970</td>\n",
       "      <td>http://www.allocine.fr/film/fichefilm-51316/cr...</td>\n",
       "      <td>Un film très fort, à l'ambiance unique . Remet...</td>\n",
       "      <td>1</td>\n",
       "    </tr>\n",
       "    <tr>\n",
       "      <th>1</th>\n",
       "      <td>91720</td>\n",
       "      <td>http://www.allocine.fr/film/fichefilm-178820/c...</td>\n",
       "      <td>donc, avoir 20 partenaires dans sa vie, c'est ...</td>\n",
       "      <td>0</td>\n",
       "    </tr>\n",
       "    <tr>\n",
       "      <th>2</th>\n",
       "      <td>34206</td>\n",
       "      <td>http://www.allocine.fr/film/fichefilm-261277/c...</td>\n",
       "      <td>Les acteurs sont relativement bons. .... Le re...</td>\n",
       "      <td>0</td>\n",
       "    </tr>\n",
       "    <tr>\n",
       "      <th>3</th>\n",
       "      <td>109119</td>\n",
       "      <td>http://www.allocine.fr/film/fichefilm-145730/c...</td>\n",
       "      <td>Un des meilleurs films que j'aie vu ces dernie...</td>\n",
       "      <td>1</td>\n",
       "    </tr>\n",
       "    <tr>\n",
       "      <th>4</th>\n",
       "      <td>36611</td>\n",
       "      <td>http://www.allocine.fr/film/fichefilm-192857/c...</td>\n",
       "      <td>A la fois très ennuyeux et prétentieux, d'une ...</td>\n",
       "      <td>0</td>\n",
       "    </tr>\n",
       "  </tbody>\n",
       "</table>\n",
       "</div>"
      ],
      "text/plain": [
       "   Unnamed: 0                                           film-url  \\\n",
       "0        3970  http://www.allocine.fr/film/fichefilm-51316/cr...   \n",
       "1       91720  http://www.allocine.fr/film/fichefilm-178820/c...   \n",
       "2       34206  http://www.allocine.fr/film/fichefilm-261277/c...   \n",
       "3      109119  http://www.allocine.fr/film/fichefilm-145730/c...   \n",
       "4       36611  http://www.allocine.fr/film/fichefilm-192857/c...   \n",
       "\n",
       "                                              review  polarity  \n",
       "0  Un film très fort, à l'ambiance unique . Remet...         1  \n",
       "1  donc, avoir 20 partenaires dans sa vie, c'est ...         0  \n",
       "2  Les acteurs sont relativement bons. .... Le re...         0  \n",
       "3  Un des meilleurs films que j'aie vu ces dernie...         1  \n",
       "4  A la fois très ennuyeux et prétentieux, d'une ...         0  "
      ]
     },
     "execution_count": 6,
     "metadata": {},
     "output_type": "execute_result"
    }
   ],
   "source": [
    "french.head()"
   ]
  },
  {
   "cell_type": "code",
   "execution_count": 8,
   "id": "a2ea7fc5-5aca-4a18-b420-36dc3c709b20",
   "metadata": {},
   "outputs": [],
   "source": [
    "import string\n",
    "from nltk.corpus import stopwords\n",
    "from nltk.tokenize import word_tokenize\n",
    "from nltk.stem import WordNetLemmatizer\n",
    "from nltk.corpus import wordnet\n",
    "from nltk.tokenize import TweetTokenizer\n",
    "import spacy\n",
    "stop = set(stopwords.words('french'))\n",
    "nlp=spacy.load(\"fr_core_news_md\")\n",
    "\n",
    "\n",
    "def clean_text(text):\n",
    "    #emojis=demoji.findall(text)\n",
    "    #if emojis != {}:\n",
    "        #for key,value in emojis.items(): \n",
    "            #if key in text:\n",
    "                #try:\n",
    "                    #translated_text=ts.translate_html(value, translator=ts.google, to_language='fr', n_jobs=-1)\n",
    "                    #text=text.replace(key,translated_text)\n",
    "                #except TypeError:\n",
    "                    #pass\n",
    "    # lower text\n",
    "    text = text.lower()\n",
    "    # remove puncutation\n",
    "    for punctuation in string.punctuation.replace('#',''):\n",
    "        text = text.replace(punctuation, ' ')\n",
    "    # remove words that contain numbers\n",
    "    text = ''.join(letter for letter in text if not letter.isdigit())\n",
    "    #tokenization + remove stop words\n",
    "    doc=nlp(text)\n",
    "    lemmatized= [token.lemma_ for token in doc]\n",
    "    # join all\n",
    "    text = \" \".join(lemmatized)\n",
    "    return text"
   ]
  },
  {
   "cell_type": "code",
   "execution_count": 9,
   "id": "6b4863ce-fb80-4c03-b61d-aba5342061fe",
   "metadata": {},
   "outputs": [],
   "source": [
    "french[\"clean_text\"] = french[\"review\"].apply(clean_text)"
   ]
  },
  {
   "cell_type": "code",
   "execution_count": 10,
   "id": "bec7987c-aa6b-46cf-945a-47ba7361a7f8",
   "metadata": {},
   "outputs": [
    {
     "data": {
      "text/html": [
       "<div>\n",
       "<style scoped>\n",
       "    .dataframe tbody tr th:only-of-type {\n",
       "        vertical-align: middle;\n",
       "    }\n",
       "\n",
       "    .dataframe tbody tr th {\n",
       "        vertical-align: top;\n",
       "    }\n",
       "\n",
       "    .dataframe thead th {\n",
       "        text-align: right;\n",
       "    }\n",
       "</style>\n",
       "<table border=\"1\" class=\"dataframe\">\n",
       "  <thead>\n",
       "    <tr style=\"text-align: right;\">\n",
       "      <th></th>\n",
       "      <th>Unnamed: 0</th>\n",
       "      <th>film-url</th>\n",
       "      <th>review</th>\n",
       "      <th>polarity</th>\n",
       "      <th>clean_text</th>\n",
       "    </tr>\n",
       "  </thead>\n",
       "  <tbody>\n",
       "    <tr>\n",
       "      <th>0</th>\n",
       "      <td>3970</td>\n",
       "      <td>http://www.allocine.fr/film/fichefilm-51316/cr...</td>\n",
       "      <td>Un film très fort, à l'ambiance unique . Remet...</td>\n",
       "      <td>1</td>\n",
       "      <td>un film très fort   à l ambiance unique    rem...</td>\n",
       "    </tr>\n",
       "    <tr>\n",
       "      <th>1</th>\n",
       "      <td>91720</td>\n",
       "      <td>http://www.allocine.fr/film/fichefilm-178820/c...</td>\n",
       "      <td>donc, avoir 20 partenaires dans sa vie, c'est ...</td>\n",
       "      <td>0</td>\n",
       "      <td>donc   avoir   partenaire dans son vie   c êtr...</td>\n",
       "    </tr>\n",
       "    <tr>\n",
       "      <th>2</th>\n",
       "      <td>34206</td>\n",
       "      <td>http://www.allocine.fr/film/fichefilm-261277/c...</td>\n",
       "      <td>Les acteurs sont relativement bons. .... Le re...</td>\n",
       "      <td>0</td>\n",
       "      <td>le acteur être relativement bon        le rest...</td>\n",
       "    </tr>\n",
       "    <tr>\n",
       "      <th>3</th>\n",
       "      <td>109119</td>\n",
       "      <td>http://www.allocine.fr/film/fichefilm-145730/c...</td>\n",
       "      <td>Un des meilleurs films que j'aie vu ces dernie...</td>\n",
       "      <td>1</td>\n",
       "      <td>un de meilleur film que j avoir voir ce dernie...</td>\n",
       "    </tr>\n",
       "    <tr>\n",
       "      <th>4</th>\n",
       "      <td>36611</td>\n",
       "      <td>http://www.allocine.fr/film/fichefilm-192857/c...</td>\n",
       "      <td>A la fois très ennuyeux et prétentieux, d'une ...</td>\n",
       "      <td>0</td>\n",
       "      <td>avoir le fois très ennuyeux et prétentieux   d...</td>\n",
       "    </tr>\n",
       "  </tbody>\n",
       "</table>\n",
       "</div>"
      ],
      "text/plain": [
       "   Unnamed: 0                                           film-url  \\\n",
       "0        3970  http://www.allocine.fr/film/fichefilm-51316/cr...   \n",
       "1       91720  http://www.allocine.fr/film/fichefilm-178820/c...   \n",
       "2       34206  http://www.allocine.fr/film/fichefilm-261277/c...   \n",
       "3      109119  http://www.allocine.fr/film/fichefilm-145730/c...   \n",
       "4       36611  http://www.allocine.fr/film/fichefilm-192857/c...   \n",
       "\n",
       "                                              review  polarity  \\\n",
       "0  Un film très fort, à l'ambiance unique . Remet...         1   \n",
       "1  donc, avoir 20 partenaires dans sa vie, c'est ...         0   \n",
       "2  Les acteurs sont relativement bons. .... Le re...         0   \n",
       "3  Un des meilleurs films que j'aie vu ces dernie...         1   \n",
       "4  A la fois très ennuyeux et prétentieux, d'une ...         0   \n",
       "\n",
       "                                          clean_text  \n",
       "0  un film très fort   à l ambiance unique    rem...  \n",
       "1  donc   avoir   partenaire dans son vie   c êtr...  \n",
       "2  le acteur être relativement bon        le rest...  \n",
       "3  un de meilleur film que j avoir voir ce dernie...  \n",
       "4  avoir le fois très ennuyeux et prétentieux   d...  "
      ]
     },
     "execution_count": 10,
     "metadata": {},
     "output_type": "execute_result"
    }
   ],
   "source": [
    "french.head()"
   ]
  },
  {
   "cell_type": "code",
   "execution_count": 11,
   "id": "b4a0cb18",
   "metadata": {
    "cell_id": "00026-978aa3f3-596a-4d3a-8a6f-53f903b482d8",
    "deepnote_cell_type": "code",
    "deepnote_to_be_reexecuted": false,
    "execution_millis": 110694,
    "execution_start": 1623242303039,
    "source_hash": "b64afb4f",
    "tags": []
   },
   "outputs": [
    {
     "name": "stdout",
     "output_type": "stream",
     "text": [
      "Fitting 10 folds for each of 150 candidates, totalling 1500 fits\n"
     ]
    },
    {
     "data": {
      "text/plain": [
       "GridSearchCV(cv=10,\n",
       "             estimator=Pipeline(steps=[('tfidf', TfidfVectorizer()),\n",
       "                                       ('nb', MultinomialNB())]),\n",
       "             n_jobs=-1,\n",
       "             param_grid={'nb__alpha': (0.1, 0.5, 1, 5, 10),\n",
       "                         'tfidf__max_df': [0.6, 0.65, 0.7, 0.75, 0.85, 1],\n",
       "                         'tfidf__ngram_range': ((1, 1), (2, 2), (1, 2), (2, 3),\n",
       "                                                (3, 3))},\n",
       "             scoring='f1', verbose=1)"
      ]
     },
     "execution_count": 11,
     "metadata": {},
     "output_type": "execute_result"
    }
   ],
   "source": [
    "# 2nd iteration\n",
    "# Fine tuning the model\n",
    "from sklearn.model_selection import GridSearchCV\n",
    "from sklearn.pipeline import Pipeline\n",
    "from sklearn.naive_bayes import MultinomialNB\n",
    "from sklearn.feature_extraction.text import TfidfVectorizer\n",
    "\n",
    "X= french['clean_text']\n",
    "y= french['polarity']\n",
    "\n",
    "# Create Pipeline\n",
    "pipeline = Pipeline([\n",
    "    ('tfidf', TfidfVectorizer()),\n",
    "    ('nb', MultinomialNB()),\n",
    "])\n",
    "\n",
    "# Set parameters to search\n",
    "parameters = {\n",
    "    'tfidf__ngram_range': ((1,1), (2,2), (1,2), (2,3), (3,3)),\n",
    "    'nb__alpha': (0.1, 0.5, 1, 5, 10),\n",
    "    'tfidf__max_df': [0.60, 0.65, 0.70, 0.75, 0.85, 1],\n",
    "}\n",
    "\n",
    "# Perform grid search\n",
    "grid_search = GridSearchCV(pipeline, parameters, n_jobs=-1, \n",
    "                           verbose=1, scoring = \"f1\", \n",
    "                           refit=True, cv=10)\n",
    "\n",
    "grid_search.fit(X,y)"
   ]
  },
  {
   "cell_type": "code",
   "execution_count": 12,
   "id": "3394595a",
   "metadata": {
    "cell_id": "00028-b7c3a182-e228-4d8c-9e67-13c7491ed47a",
    "deepnote_cell_type": "code",
    "deepnote_to_be_reexecuted": false,
    "execution_millis": 9,
    "execution_start": 1623242446227,
    "source_hash": "d361b2d7",
    "tags": []
   },
   "outputs": [
    {
     "data": {
      "text/plain": [
       "{'nb__alpha': 0.5, 'tfidf__max_df': 0.65, 'tfidf__ngram_range': (1, 2)}"
      ]
     },
     "execution_count": 12,
     "metadata": {},
     "output_type": "execute_result"
    }
   ],
   "source": [
    "grid_search.best_params_"
   ]
  },
  {
   "cell_type": "code",
   "execution_count": 13,
   "id": "342ab1c1",
   "metadata": {
    "cell_id": "00029-1e783bb3-ae84-4779-9ebf-12e283cf6849",
    "deepnote_cell_type": "code",
    "deepnote_to_be_reexecuted": false,
    "execution_millis": 12,
    "execution_start": 1623242448250,
    "source_hash": "655fe0b1",
    "tags": []
   },
   "outputs": [
    {
     "data": {
      "text/plain": [
       "0.9108041148622968"
      ]
     },
     "execution_count": 13,
     "metadata": {},
     "output_type": "execute_result"
    }
   ],
   "source": [
    "grid_search.best_score_"
   ]
  },
  {
   "cell_type": "code",
   "execution_count": 14,
   "id": "cf4c0acc",
   "metadata": {
    "cell_id": "00032-3a64d963-343e-411b-ab17-fb0bfed88833",
    "deepnote_cell_type": "code",
    "tags": []
   },
   "outputs": [],
   "source": [
    "french.to_csv(\"allo_clean.csv\")"
   ]
  },
  {
   "cell_type": "code",
   "execution_count": 15,
   "id": "a800b88e-8d31-41b5-9cdd-f2f253af2c75",
   "metadata": {},
   "outputs": [
    {
     "data": {
      "text/plain": [
       "['ml_model_nb_allo.pkl']"
      ]
     },
     "execution_count": 15,
     "metadata": {},
     "output_type": "execute_result"
    }
   ],
   "source": [
    "import joblib \n",
    "joblib.dump(grid_search,'ml_model_nb_allo.pkl')"
   ]
  },
  {
   "cell_type": "code",
   "execution_count": 16,
   "id": "c0334a6c-43cf-4ef8-93e2-b9be2c9e5743",
   "metadata": {},
   "outputs": [
    {
     "data": {
      "text/plain": [
       "GridSearchCV(cv=10,\n",
       "             estimator=Pipeline(steps=[('tfidf', TfidfVectorizer()),\n",
       "                                       ('nb', MultinomialNB())]),\n",
       "             n_jobs=-1,\n",
       "             param_grid={'nb__alpha': (0.1, 0.5, 1, 5, 10),\n",
       "                         'tfidf__lowercase': (True, False),\n",
       "                         'tfidf__max_df': [0.6, 0.65, 0.7, 0.75, 0.85, 1],\n",
       "                         'tfidf__ngram_range': ((1, 1), (2, 2), (1, 2), (2, 3),\n",
       "                                                (3, 3))},\n",
       "             scoring='f1', verbose=1)"
      ]
     },
     "execution_count": 16,
     "metadata": {},
     "output_type": "execute_result"
    }
   ],
   "source": [
    "joblib.load(\"ml_model_nb.pkl\")"
   ]
  },
  {
   "cell_type": "code",
   "execution_count": 22,
   "id": "393c7c0b-3b00-41cf-a736-b1a6d2e5cbd1",
   "metadata": {},
   "outputs": [],
   "source": [
    "predict = pd.read_csv(\"tweet_psg.csv\")"
   ]
  },
  {
   "cell_type": "code",
   "execution_count": 23,
   "id": "5574d65c-fe3f-4759-9fc0-059f39679206",
   "metadata": {},
   "outputs": [],
   "source": [
    "predict[\"clean_text\"] = predict[\"tweet\"].apply(clean_text)"
   ]
  },
  {
   "cell_type": "code",
   "execution_count": 24,
   "id": "805c931a-0d69-4530-b82f-4d8220f293dc",
   "metadata": {},
   "outputs": [],
   "source": [
    "X_test = predict['clean_text']"
   ]
  },
  {
   "cell_type": "code",
   "execution_count": 25,
   "id": "0f929e22-3c88-43bf-9117-4e6c41060b83",
   "metadata": {},
   "outputs": [],
   "source": [
    "prediction = pd.DataFrame(grid_search.best_estimator_.predict(X_test))"
   ]
  },
  {
   "cell_type": "code",
   "execution_count": 26,
   "id": "774cabf1-731f-4e10-9a93-1ea9dd587f8d",
   "metadata": {},
   "outputs": [],
   "source": [
    "real_twits_prediction = pd.concat([predict,prediction], axis=1)"
   ]
  },
  {
   "cell_type": "code",
   "execution_count": 27,
   "id": "dcb6274c-1115-4648-9b2a-8982d071c1cf",
   "metadata": {},
   "outputs": [],
   "source": [
    "real_twits_prediction.to_csv(\"prediction_allo.csv\")"
   ]
  },
  {
   "cell_type": "markdown",
   "id": "2a7779f9",
   "metadata": {
    "created_in_deepnote_cell": true,
    "deepnote_cell_type": "markdown",
    "tags": []
   },
   "source": [
    "<a style='text-decoration:none;line-height:16px;display:flex;color:#5B5B62;padding:10px;justify-content:end;' href='https://deepnote.com?utm_source=created-in-deepnote-cell&projectId=ce82c844-fa70-433d-b480-148c6a0f0f8b' target=\"_blank\">\n",
    "<img alt='Created in deepnote.com' style='display:inline;max-height:16px;margin:0px;margin-right:7.5px;' src='data:image/svg+xml;base64,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' > </img>\n",
    "Created in <span style='font-weight:600;margin-left:4px;'>Deepnote</span></a>"
   ]
  }
 ],
 "metadata": {
  "deepnote": {},
  "deepnote_execution_queue": [
   {
    "cellId": "00030-1f7a53b1-b503-4a1d-b202-3cb959c9eb75",
    "msgId": "3c08232b-1363-4a1d-a97f-6cfec9652090",
    "sessionId": "f9f9f78c-67fb-45f3-ba17-c35989cc1eaa"
   }
  ],
  "deepnote_notebook_id": "1c79bd73-0466-4ed7-b484-6cb18f9263a9",
  "kernelspec": {
   "display_name": "Python 3",
   "language": "python",
   "name": "python3"
  },
  "language_info": {
   "codemirror_mode": {
    "name": "ipython",
    "version": 3
   },
   "file_extension": ".py",
   "mimetype": "text/x-python",
   "name": "python",
   "nbconvert_exporter": "python",
   "pygments_lexer": "ipython3",
   "version": "3.9.0"
  },
  "toc": {
   "base_numbering": 1,
   "nav_menu": {},
   "number_sections": true,
   "sideBar": true,
   "skip_h1_title": false,
   "title_cell": "Table of Contents",
   "title_sidebar": "Contents",
   "toc_cell": false,
   "toc_position": {},
   "toc_section_display": true,
   "toc_window_display": false
  }
 },
 "nbformat": 4,
 "nbformat_minor": 5
}
