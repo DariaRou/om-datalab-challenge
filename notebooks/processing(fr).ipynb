{
 "cells": [
  {
   "cell_type": "code",
   "execution_count": 1,
   "metadata": {
    "cell_id": "00000-4b318858-9956-43c6-b190-048b32255f9e",
    "deepnote_cell_type": "code",
    "tags": []
   },
   "outputs": [
    {
     "name": "stdout",
     "output_type": "stream",
     "text": [
      "Requirement already up-to-date: translators in /Users/dariarousset/miniforge3/lib/python3.9/site-packages (4.7.20)\n",
      "Requirement already satisfied, skipping upgrade: PyExecJS>=1.5.1 in /Users/dariarousset/miniforge3/lib/python3.9/site-packages (from translators) (1.5.1)\n",
      "Requirement already satisfied, skipping upgrade: loguru>=0.4.1 in /Users/dariarousset/miniforge3/lib/python3.9/site-packages (from translators) (0.5.3)\n",
      "Requirement already satisfied, skipping upgrade: requests>=2.25.1 in /Users/dariarousset/miniforge3/lib/python3.9/site-packages (from translators) (2.25.1)\n",
      "Requirement already satisfied, skipping upgrade: pathos>=0.2.7 in /Users/dariarousset/miniforge3/lib/python3.9/site-packages (from translators) (0.2.7)\n",
      "Requirement already satisfied, skipping upgrade: lxml>=4.5.0 in /Users/dariarousset/miniforge3/lib/python3.9/site-packages (from translators) (4.6.3)\n",
      "Requirement already satisfied, skipping upgrade: six>=1.10.0 in /Users/dariarousset/miniforge3/lib/python3.9/site-packages (from PyExecJS>=1.5.1->translators) (1.15.0)\n",
      "Requirement already satisfied, skipping upgrade: certifi>=2017.4.17 in /Users/dariarousset/miniforge3/lib/python3.9/site-packages (from requests>=2.25.1->translators) (2021.5.30)\n",
      "Requirement already satisfied, skipping upgrade: idna<3,>=2.5 in /Users/dariarousset/miniforge3/lib/python3.9/site-packages (from requests>=2.25.1->translators) (2.10)\n",
      "Requirement already satisfied, skipping upgrade: chardet<5,>=3.0.2 in /Users/dariarousset/miniforge3/lib/python3.9/site-packages (from requests>=2.25.1->translators) (3.0.4)\n",
      "Requirement already satisfied, skipping upgrade: urllib3<1.27,>=1.21.1 in /Users/dariarousset/miniforge3/lib/python3.9/site-packages (from requests>=2.25.1->translators) (1.25.11)\n",
      "Requirement already satisfied, skipping upgrade: ppft>=1.6.6.3 in /Users/dariarousset/miniforge3/lib/python3.9/site-packages (from pathos>=0.2.7->translators) (1.6.6.3)\n",
      "Requirement already satisfied, skipping upgrade: multiprocess>=0.70.11 in /Users/dariarousset/miniforge3/lib/python3.9/site-packages (from pathos>=0.2.7->translators) (0.70.11.1)\n",
      "Requirement already satisfied, skipping upgrade: pox>=0.2.9 in /Users/dariarousset/miniforge3/lib/python3.9/site-packages (from pathos>=0.2.7->translators) (0.3.0)\n",
      "Requirement already satisfied, skipping upgrade: dill>=0.3.3 in /Users/dariarousset/miniforge3/lib/python3.9/site-packages (from pathos>=0.2.7->translators) (0.3.3)\n",
      "Requirement already satisfied: demoji in /Users/dariarousset/miniforge3/lib/python3.9/site-packages (0.4.0)\n",
      "Requirement already satisfied: colorama in /Users/dariarousset/miniforge3/lib/python3.9/site-packages (from demoji) (0.4.4)\n",
      "Requirement already satisfied: requests<3.0.0 in /Users/dariarousset/miniforge3/lib/python3.9/site-packages (from demoji) (2.25.1)\n",
      "Requirement already satisfied: certifi>=2017.4.17 in /Users/dariarousset/miniforge3/lib/python3.9/site-packages (from requests<3.0.0->demoji) (2021.5.30)\n",
      "Requirement already satisfied: idna<3,>=2.5 in /Users/dariarousset/miniforge3/lib/python3.9/site-packages (from requests<3.0.0->demoji) (2.10)\n",
      "Requirement already satisfied: urllib3<1.27,>=1.21.1 in /Users/dariarousset/miniforge3/lib/python3.9/site-packages (from requests<3.0.0->demoji) (1.25.11)\n",
      "Requirement already satisfied: chardet<5,>=3.0.2 in /Users/dariarousset/miniforge3/lib/python3.9/site-packages (from requests<3.0.0->demoji) (3.0.4)\n",
      "Requirement already satisfied: spacy in /Users/dariarousset/miniforge3/lib/python3.9/site-packages (3.0.6)\n",
      "Requirement already satisfied: setuptools in /Users/dariarousset/miniforge3/lib/python3.9/site-packages (from spacy) (49.6.0.post20201009)\n",
      "Requirement already satisfied: preshed<3.1.0,>=3.0.2 in /Users/dariarousset/miniforge3/lib/python3.9/site-packages (from spacy) (3.0.5)\n",
      "Requirement already satisfied: packaging>=20.0 in /Users/dariarousset/miniforge3/lib/python3.9/site-packages (from spacy) (20.9)\n",
      "Requirement already satisfied: cymem<2.1.0,>=2.0.2 in /Users/dariarousset/miniforge3/lib/python3.9/site-packages (from spacy) (2.0.5)\n",
      "Requirement already satisfied: srsly<3.0.0,>=2.4.1 in /Users/dariarousset/miniforge3/lib/python3.9/site-packages (from spacy) (2.4.1)\n",
      "Requirement already satisfied: catalogue<2.1.0,>=2.0.3 in /Users/dariarousset/miniforge3/lib/python3.9/site-packages (from spacy) (2.0.4)\n",
      "Requirement already satisfied: requests<3.0.0,>=2.13.0 in /Users/dariarousset/miniforge3/lib/python3.9/site-packages (from spacy) (2.25.1)\n",
      "Requirement already satisfied: pathy>=0.3.5 in /Users/dariarousset/miniforge3/lib/python3.9/site-packages (from spacy) (0.5.2)\n",
      "Requirement already satisfied: blis<0.8.0,>=0.4.0 in /Users/dariarousset/miniforge3/lib/python3.9/site-packages (from spacy) (0.7.4)\n",
      "Requirement already satisfied: thinc<8.1.0,>=8.0.3 in /Users/dariarousset/miniforge3/lib/python3.9/site-packages (from spacy) (8.0.3)\n",
      "Requirement already satisfied: wasabi<1.1.0,>=0.8.1 in /Users/dariarousset/miniforge3/lib/python3.9/site-packages (from spacy) (0.8.2)\n",
      "Requirement already satisfied: tqdm<5.0.0,>=4.38.0 in /Users/dariarousset/miniforge3/lib/python3.9/site-packages (from spacy) (4.51.0)\n",
      "Requirement already satisfied: numpy>=1.15.0 in /Users/dariarousset/miniforge3/lib/python3.9/site-packages (from spacy) (1.20.2)\n",
      "Requirement already satisfied: murmurhash<1.1.0,>=0.28.0 in /Users/dariarousset/miniforge3/lib/python3.9/site-packages (from spacy) (1.0.5)\n",
      "Requirement already satisfied: typer<0.4.0,>=0.3.0 in /Users/dariarousset/miniforge3/lib/python3.9/site-packages (from spacy) (0.3.1)\n",
      "Requirement already satisfied: spacy-legacy<3.1.0,>=3.0.4 in /Users/dariarousset/miniforge3/lib/python3.9/site-packages (from spacy) (3.0.5)\n",
      "Requirement already satisfied: pydantic<1.8.0,>=1.7.1 in /Users/dariarousset/miniforge3/lib/python3.9/site-packages (from spacy) (1.7.4)\n",
      "Requirement already satisfied: jinja2 in /Users/dariarousset/miniforge3/lib/python3.9/site-packages (from spacy) (3.0.1)\n",
      "Requirement already satisfied: pyparsing>=2.0.2 in /Users/dariarousset/miniforge3/lib/python3.9/site-packages (from packaging>=20.0->spacy) (2.4.7)\n",
      "Requirement already satisfied: urllib3<1.27,>=1.21.1 in /Users/dariarousset/miniforge3/lib/python3.9/site-packages (from requests<3.0.0,>=2.13.0->spacy) (1.25.11)\n",
      "Requirement already satisfied: certifi>=2017.4.17 in /Users/dariarousset/miniforge3/lib/python3.9/site-packages (from requests<3.0.0,>=2.13.0->spacy) (2021.5.30)\n",
      "Requirement already satisfied: idna<3,>=2.5 in /Users/dariarousset/miniforge3/lib/python3.9/site-packages (from requests<3.0.0,>=2.13.0->spacy) (2.10)\n",
      "Requirement already satisfied: chardet<5,>=3.0.2 in /Users/dariarousset/miniforge3/lib/python3.9/site-packages (from requests<3.0.0,>=2.13.0->spacy) (3.0.4)\n",
      "Requirement already satisfied: smart-open<4.0.0,>=2.2.0 in /Users/dariarousset/miniforge3/lib/python3.9/site-packages (from pathy>=0.3.5->spacy) (2.2.1)\n",
      "Requirement already satisfied: click<7.2.0,>=7.1.1 in /Users/dariarousset/miniforge3/lib/python3.9/site-packages (from typer<0.4.0,>=0.3.0->spacy) (7.1.2)\n",
      "Requirement already satisfied: MarkupSafe>=2.0 in /Users/dariarousset/miniforge3/lib/python3.9/site-packages (from jinja2->spacy) (2.0.1)\n",
      "Requirement already satisfied: boto3 in /Users/dariarousset/miniforge3/lib/python3.9/site-packages (from smart-open<4.0.0,>=2.2.0->pathy>=0.3.5->spacy) (1.17.91)\n",
      "Requirement already satisfied: botocore<1.21.0,>=1.20.91 in /Users/dariarousset/miniforge3/lib/python3.9/site-packages (from boto3->smart-open<4.0.0,>=2.2.0->pathy>=0.3.5->spacy) (1.20.91)\n",
      "Requirement already satisfied: jmespath<1.0.0,>=0.7.1 in /Users/dariarousset/miniforge3/lib/python3.9/site-packages (from boto3->smart-open<4.0.0,>=2.2.0->pathy>=0.3.5->spacy) (0.10.0)\n",
      "Requirement already satisfied: s3transfer<0.5.0,>=0.4.0 in /Users/dariarousset/miniforge3/lib/python3.9/site-packages (from boto3->smart-open<4.0.0,>=2.2.0->pathy>=0.3.5->spacy) (0.4.2)\n",
      "Requirement already satisfied: python-dateutil<3.0.0,>=2.1 in /Users/dariarousset/miniforge3/lib/python3.9/site-packages (from botocore<1.21.0,>=1.20.91->boto3->smart-open<4.0.0,>=2.2.0->pathy>=0.3.5->spacy) (2.8.1)\n",
      "Requirement already satisfied: six>=1.5 in /Users/dariarousset/miniforge3/lib/python3.9/site-packages (from python-dateutil<3.0.0,>=2.1->botocore<1.21.0,>=1.20.91->boto3->smart-open<4.0.0,>=2.2.0->pathy>=0.3.5->spacy) (1.15.0)\n",
      "Requirement already satisfied: fr-core-news-md==3.0.0 from https://github.com/explosion/spacy-models/releases/download/fr_core_news_md-3.0.0/fr_core_news_md-3.0.0-py3-none-any.whl#egg=fr_core_news_md==3.0.0 in /Users/dariarousset/miniforge3/lib/python3.9/site-packages (3.0.0)\n",
      "Requirement already satisfied: spacy<3.1.0,>=3.0.0 in /Users/dariarousset/miniforge3/lib/python3.9/site-packages (from fr-core-news-md==3.0.0) (3.0.6)\n",
      "Requirement already satisfied: catalogue<2.1.0,>=2.0.3 in /Users/dariarousset/miniforge3/lib/python3.9/site-packages (from spacy<3.1.0,>=3.0.0->fr-core-news-md==3.0.0) (2.0.4)\n",
      "Requirement already satisfied: cymem<2.1.0,>=2.0.2 in /Users/dariarousset/miniforge3/lib/python3.9/site-packages (from spacy<3.1.0,>=3.0.0->fr-core-news-md==3.0.0) (2.0.5)\n",
      "Requirement already satisfied: pathy>=0.3.5 in /Users/dariarousset/miniforge3/lib/python3.9/site-packages (from spacy<3.1.0,>=3.0.0->fr-core-news-md==3.0.0) (0.5.2)\n",
      "Requirement already satisfied: requests<3.0.0,>=2.13.0 in /Users/dariarousset/miniforge3/lib/python3.9/site-packages (from spacy<3.1.0,>=3.0.0->fr-core-news-md==3.0.0) (2.25.1)\n",
      "Requirement already satisfied: thinc<8.1.0,>=8.0.3 in /Users/dariarousset/miniforge3/lib/python3.9/site-packages (from spacy<3.1.0,>=3.0.0->fr-core-news-md==3.0.0) (8.0.3)\n",
      "Requirement already satisfied: spacy-legacy<3.1.0,>=3.0.4 in /Users/dariarousset/miniforge3/lib/python3.9/site-packages (from spacy<3.1.0,>=3.0.0->fr-core-news-md==3.0.0) (3.0.5)\n",
      "Requirement already satisfied: jinja2 in /Users/dariarousset/miniforge3/lib/python3.9/site-packages (from spacy<3.1.0,>=3.0.0->fr-core-news-md==3.0.0) (3.0.1)\n",
      "Requirement already satisfied: numpy>=1.15.0 in /Users/dariarousset/miniforge3/lib/python3.9/site-packages (from spacy<3.1.0,>=3.0.0->fr-core-news-md==3.0.0) (1.20.2)\n",
      "Requirement already satisfied: tqdm<5.0.0,>=4.38.0 in /Users/dariarousset/miniforge3/lib/python3.9/site-packages (from spacy<3.1.0,>=3.0.0->fr-core-news-md==3.0.0) (4.51.0)\n",
      "Requirement already satisfied: setuptools in /Users/dariarousset/miniforge3/lib/python3.9/site-packages (from spacy<3.1.0,>=3.0.0->fr-core-news-md==3.0.0) (49.6.0.post20201009)\n",
      "Requirement already satisfied: blis<0.8.0,>=0.4.0 in /Users/dariarousset/miniforge3/lib/python3.9/site-packages (from spacy<3.1.0,>=3.0.0->fr-core-news-md==3.0.0) (0.7.4)\n",
      "Requirement already satisfied: pydantic<1.8.0,>=1.7.1 in /Users/dariarousset/miniforge3/lib/python3.9/site-packages (from spacy<3.1.0,>=3.0.0->fr-core-news-md==3.0.0) (1.7.4)\n",
      "Requirement already satisfied: wasabi<1.1.0,>=0.8.1 in /Users/dariarousset/miniforge3/lib/python3.9/site-packages (from spacy<3.1.0,>=3.0.0->fr-core-news-md==3.0.0) (0.8.2)\n",
      "Requirement already satisfied: murmurhash<1.1.0,>=0.28.0 in /Users/dariarousset/miniforge3/lib/python3.9/site-packages (from spacy<3.1.0,>=3.0.0->fr-core-news-md==3.0.0) (1.0.5)\n",
      "Requirement already satisfied: typer<0.4.0,>=0.3.0 in /Users/dariarousset/miniforge3/lib/python3.9/site-packages (from spacy<3.1.0,>=3.0.0->fr-core-news-md==3.0.0) (0.3.1)\n",
      "Requirement already satisfied: srsly<3.0.0,>=2.4.1 in /Users/dariarousset/miniforge3/lib/python3.9/site-packages (from spacy<3.1.0,>=3.0.0->fr-core-news-md==3.0.0) (2.4.1)\n",
      "Requirement already satisfied: preshed<3.1.0,>=3.0.2 in /Users/dariarousset/miniforge3/lib/python3.9/site-packages (from spacy<3.1.0,>=3.0.0->fr-core-news-md==3.0.0) (3.0.5)\n",
      "Requirement already satisfied: packaging>=20.0 in /Users/dariarousset/miniforge3/lib/python3.9/site-packages (from spacy<3.1.0,>=3.0.0->fr-core-news-md==3.0.0) (20.9)\n",
      "Requirement already satisfied: smart-open<4.0.0,>=2.2.0 in /Users/dariarousset/miniforge3/lib/python3.9/site-packages (from pathy>=0.3.5->spacy<3.1.0,>=3.0.0->fr-core-news-md==3.0.0) (2.2.1)\n",
      "Requirement already satisfied: chardet<5,>=3.0.2 in /Users/dariarousset/miniforge3/lib/python3.9/site-packages (from requests<3.0.0,>=2.13.0->spacy<3.1.0,>=3.0.0->fr-core-news-md==3.0.0) (3.0.4)\n",
      "Requirement already satisfied: certifi>=2017.4.17 in /Users/dariarousset/miniforge3/lib/python3.9/site-packages (from requests<3.0.0,>=2.13.0->spacy<3.1.0,>=3.0.0->fr-core-news-md==3.0.0) (2021.5.30)\n",
      "Requirement already satisfied: idna<3,>=2.5 in /Users/dariarousset/miniforge3/lib/python3.9/site-packages (from requests<3.0.0,>=2.13.0->spacy<3.1.0,>=3.0.0->fr-core-news-md==3.0.0) (2.10)\n",
      "Requirement already satisfied: urllib3<1.27,>=1.21.1 in /Users/dariarousset/miniforge3/lib/python3.9/site-packages (from requests<3.0.0,>=2.13.0->spacy<3.1.0,>=3.0.0->fr-core-news-md==3.0.0) (1.25.11)\n",
      "Requirement already satisfied: MarkupSafe>=2.0 in /Users/dariarousset/miniforge3/lib/python3.9/site-packages (from jinja2->spacy<3.1.0,>=3.0.0->fr-core-news-md==3.0.0) (2.0.1)\n",
      "Requirement already satisfied: click<7.2.0,>=7.1.1 in /Users/dariarousset/miniforge3/lib/python3.9/site-packages (from typer<0.4.0,>=0.3.0->spacy<3.1.0,>=3.0.0->fr-core-news-md==3.0.0) (7.1.2)\n",
      "Requirement already satisfied: pyparsing>=2.0.2 in /Users/dariarousset/miniforge3/lib/python3.9/site-packages (from packaging>=20.0->spacy<3.1.0,>=3.0.0->fr-core-news-md==3.0.0) (2.4.7)\n",
      "Requirement already satisfied: boto3 in /Users/dariarousset/miniforge3/lib/python3.9/site-packages (from smart-open<4.0.0,>=2.2.0->pathy>=0.3.5->spacy<3.1.0,>=3.0.0->fr-core-news-md==3.0.0) (1.17.91)\n",
      "Requirement already satisfied: s3transfer<0.5.0,>=0.4.0 in /Users/dariarousset/miniforge3/lib/python3.9/site-packages (from boto3->smart-open<4.0.0,>=2.2.0->pathy>=0.3.5->spacy<3.1.0,>=3.0.0->fr-core-news-md==3.0.0) (0.4.2)\n",
      "Requirement already satisfied: botocore<1.21.0,>=1.20.91 in /Users/dariarousset/miniforge3/lib/python3.9/site-packages (from boto3->smart-open<4.0.0,>=2.2.0->pathy>=0.3.5->spacy<3.1.0,>=3.0.0->fr-core-news-md==3.0.0) (1.20.91)\n",
      "Requirement already satisfied: jmespath<1.0.0,>=0.7.1 in /Users/dariarousset/miniforge3/lib/python3.9/site-packages (from boto3->smart-open<4.0.0,>=2.2.0->pathy>=0.3.5->spacy<3.1.0,>=3.0.0->fr-core-news-md==3.0.0) (0.10.0)\n",
      "Requirement already satisfied: python-dateutil<3.0.0,>=2.1 in /Users/dariarousset/miniforge3/lib/python3.9/site-packages (from botocore<1.21.0,>=1.20.91->boto3->smart-open<4.0.0,>=2.2.0->pathy>=0.3.5->spacy<3.1.0,>=3.0.0->fr-core-news-md==3.0.0) (2.8.1)\n",
      "Requirement already satisfied: six>=1.5 in /Users/dariarousset/miniforge3/lib/python3.9/site-packages (from python-dateutil<3.0.0,>=2.1->botocore<1.21.0,>=1.20.91->boto3->smart-open<4.0.0,>=2.2.0->pathy>=0.3.5->spacy<3.1.0,>=3.0.0->fr-core-news-md==3.0.0) (1.15.0)\n",
      "\u001b[38;5;2m✔ Download and installation successful\u001b[0m\n",
      "You can now load the package via spacy.load('fr_core_news_md')\n"
     ]
    },
    {
     "name": "stderr",
     "output_type": "stream",
     "text": [
      "Using France server backend.\n"
     ]
    },
    {
     "name": "stdout",
     "output_type": "stream",
     "text": [
      "Downloading emoji data ...\n",
      "... OK (Got response in 0.45 seconds)\n",
      "Writing emoji data to /Users/dariarousset/.demoji/codes.json ...\n",
      "... OK\n"
     ]
    },
    {
     "name": "stderr",
     "output_type": "stream",
     "text": [
      "[nltk_data] Downloading package stopwords to\n",
      "[nltk_data]     /Users/dariarousset/nltk_data...\n",
      "[nltk_data]   Package stopwords is already up-to-date!\n",
      "[nltk_data] Downloading package punkt to\n",
      "[nltk_data]     /Users/dariarousset/nltk_data...\n",
      "[nltk_data]   Package punkt is already up-to-date!\n",
      "[nltk_data] Downloading package wordnet to\n",
      "[nltk_data]     /Users/dariarousset/nltk_data...\n",
      "[nltk_data]   Package wordnet is already up-to-date!\n"
     ]
    }
   ],
   "source": [
    "!pip install translators --upgrade\n",
    "!pip install demoji\n",
    "!pip install spacy\n",
    "!python -m spacy download fr_core_news_md\n",
    "\n",
    "import pandas as pd\n",
    "import numpy as np\n",
    "import nltk\n",
    "import translators as ts\n",
    "import demoji\n",
    "import spacy\n",
    "import nltk\n",
    "import string\n",
    "from nltk.corpus import stopwords\n",
    "from nltk.tokenize import word_tokenize\n",
    "from nltk.stem import WordNetLemmatizer\n",
    "from nltk.corpus import wordnet\n",
    "from nltk.tokenize import TweetTokenizer\n",
    "demoji.download_codes()\n",
    "nltk.download('stopwords')\n",
    "nltk.download('punkt')\n",
    "nltk.download('wordnet')\n",
    "stop = set(stopwords.words('french'))\n",
    "nlp=spacy.load(\"fr_core_news_md\")"
   ]
  },
  {
   "cell_type": "code",
   "execution_count": 2,
   "metadata": {
    "cell_id": "00000-1df9d9ea-675d-45af-9a62-11e59d38a9cd",
    "deepnote_cell_type": "code",
    "deepnote_to_be_reexecuted": false,
    "execution_millis": 2,
    "execution_start": 1623426431181,
    "source_hash": "4071189a",
    "tags": []
   },
   "outputs": [],
   "source": [
    "def clean_text(text):\n",
    "    #replace emojis:\n",
    "    #emojis=demoji.findall(text)\n",
    "    #if emojis != {}:\n",
    "        #for key,value in emojis.items(): \n",
    "            #if key in text:\n",
    "                #try:\n",
    "                    #translated_text=ts.translate_html(value, translator=ts.google, to_language='fr', n_jobs=-1)\n",
    "                    #text=text.replace(key,translated_text)\n",
    "                #except TypeError:\n",
    "                    #pass\n",
    "    # lower text\n",
    "    text = text.lower()\n",
    "    # remove puncutation\n",
    "    for punctuation in string.punctuation.replace('#',''):\n",
    "        text = text.replace(punctuation, ' ')\n",
    "    # remove words that contain numbers\n",
    "    text = ''.join(letter for letter in text if not letter.isdigit())\n",
    "    #tokenization + remove stop words\n",
    "    doc=nlp(text)\n",
    "    lemmatized= [token.lemma_ for token in doc]\n",
    "    # join all\n",
    "    text = \" \".join(lemmatized)\n",
    "    return text\n",
    "\n",
    "def main(text):\n",
    "    text = text.apply(clean_text)"
   ]
  },
  {
   "cell_type": "markdown",
   "metadata": {
    "created_in_deepnote_cell": true,
    "deepnote_cell_type": "markdown",
    "tags": []
   },
   "source": [
    "<a style='text-decoration:none;line-height:16px;display:flex;color:#5B5B62;padding:10px;justify-content:end;' href='https://deepnote.com?utm_source=created-in-deepnote-cell&projectId=ce82c844-fa70-433d-b480-148c6a0f0f8b' target=\"_blank\">\n",
    "<img alt='Created in deepnote.com' style='display:inline;max-height:16px;margin:0px;margin-right:7.5px;' src='data:image/svg+xml;base64,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' > </img>\n",
    "Created in <span style='font-weight:600;margin-left:4px;'>Deepnote</span></a>"
   ]
  }
 ],
 "metadata": {
  "deepnote": {
   "is_reactive": false
  },
  "deepnote_execution_queue": [],
  "deepnote_notebook_id": "17b192e8-05a9-4edd-b761-0914649fb535",
  "kernelspec": {
   "display_name": "Python 3",
   "language": "python",
   "name": "python3"
  },
  "language_info": {
   "codemirror_mode": {
    "name": "ipython",
    "version": 3
   },
   "file_extension": ".py",
   "mimetype": "text/x-python",
   "name": "python",
   "nbconvert_exporter": "python",
   "pygments_lexer": "ipython3",
   "version": "3.9.0"
  }
 },
 "nbformat": 4,
 "nbformat_minor": 4
}
