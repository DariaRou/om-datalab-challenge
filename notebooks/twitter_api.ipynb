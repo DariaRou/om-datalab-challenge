{
 "cells": [
  {
   "cell_type": "code",
   "execution_count": 15,
   "id": "deb1e738",
   "metadata": {},
   "outputs": [
    {
     "name": "stdout",
     "output_type": "stream",
     "text": [
      "Requirement already satisfied: textblob in /Users/dariarousset/miniforge3/lib/python3.9/site-packages (0.15.3)\n",
      "Requirement already satisfied: nltk>=3.1 in /Users/dariarousset/miniforge3/lib/python3.9/site-packages (from textblob) (3.6.2)\n",
      "Requirement already satisfied: regex in /Users/dariarousset/miniforge3/lib/python3.9/site-packages (from nltk>=3.1->textblob) (2021.4.4)\n",
      "Requirement already satisfied: joblib in /Users/dariarousset/miniforge3/lib/python3.9/site-packages (from nltk>=3.1->textblob) (1.0.1)\n",
      "Requirement already satisfied: click in /Users/dariarousset/miniforge3/lib/python3.9/site-packages (from nltk>=3.1->textblob) (7.1.2)\n",
      "Requirement already satisfied: tqdm in /Users/dariarousset/miniforge3/lib/python3.9/site-packages (from nltk>=3.1->textblob) (4.51.0)\n",
      "Requirement already satisfied: tweepy in /Users/dariarousset/miniforge3/lib/python3.9/site-packages (3.10.0)\n",
      "Requirement already satisfied: requests-oauthlib>=0.7.0 in /Users/dariarousset/miniforge3/lib/python3.9/site-packages (from tweepy) (1.3.0)\n",
      "Requirement already satisfied: requests[socks]>=2.11.1 in /Users/dariarousset/miniforge3/lib/python3.9/site-packages (from tweepy) (2.24.0)\n",
      "Requirement already satisfied: six>=1.10.0 in /Users/dariarousset/miniforge3/lib/python3.9/site-packages (from tweepy) (1.15.0)\n",
      "Requirement already satisfied: oauthlib>=3.0.0 in /Users/dariarousset/miniforge3/lib/python3.9/site-packages (from requests-oauthlib>=0.7.0->tweepy) (3.0.1)\n",
      "Requirement already satisfied: chardet<4,>=3.0.2 in /Users/dariarousset/miniforge3/lib/python3.9/site-packages (from requests[socks]>=2.11.1->tweepy) (3.0.4)\n",
      "Requirement already satisfied: certifi>=2017.4.17 in /Users/dariarousset/miniforge3/lib/python3.9/site-packages (from requests[socks]>=2.11.1->tweepy) (2021.5.30)\n",
      "Requirement already satisfied: urllib3!=1.25.0,!=1.25.1,<1.26,>=1.21.1 in /Users/dariarousset/miniforge3/lib/python3.9/site-packages (from requests[socks]>=2.11.1->tweepy) (1.25.11)\n",
      "Requirement already satisfied: idna<3,>=2.5 in /Users/dariarousset/miniforge3/lib/python3.9/site-packages (from requests[socks]>=2.11.1->tweepy) (2.10)\n",
      "Requirement already satisfied: PySocks!=1.5.7,>=1.5.6; extra == \"socks\" in /Users/dariarousset/miniforge3/lib/python3.9/site-packages (from requests[socks]>=2.11.1->tweepy) (1.7.1)\n"
     ]
    }
   ],
   "source": [
    "!pip install textblob\n",
    "!pip install tweepy"
   ]
  },
  {
   "cell_type": "code",
   "execution_count": 16,
   "id": "ade540a2",
   "metadata": {},
   "outputs": [],
   "source": [
    "from textblob import TextBlob\n",
    "import sys\n",
    "import tweepy\n",
    "import matplotlib.pyplot as plt\n",
    "import pandas as pd\n",
    "import numpy as np\n",
    "import os\n",
    "import nltk\n",
    "import re\n",
    "import string\n",
    "\n",
    "from wordcloud import WordCloud, STOPWORDS\n",
    "from nltk.sentiment.vader import SentimentIntensityAnalyzer\n",
    "from nltk.stem import SnowballStemmer\n",
    "from nltk.sentiment.vader import SentimentIntensityAnalyzer\n",
    "from sklearn.feature_extraction.text import CountVectorizer"
   ]
  },
  {
   "cell_type": "code",
   "execution_count": 17,
   "id": "250a3b6a",
   "metadata": {},
   "outputs": [],
   "source": [
    "consumerKey = \"XXX\"\n",
    "consumerSecret = \"XXX\"\n",
    "accessToken = \"XXX\"\n",
    "accessTokenSecret = \"XXX\"\n",
    "\n",
    "auth = tweepy.OAuthHandler(consumerKey, consumerSecret)\n",
    "auth.set_access_token(accessToken, accessTokenSecret)\n",
    "api = tweepy.API(auth)"
   ]
  },
  {
   "cell_type": "code",
   "execution_count": 18,
   "id": "40f70e2d",
   "metadata": {},
   "outputs": [],
   "source": [
    "tweets = tweepy.Cursor(api.search, q=\"DroitAuBut\").items(500)\n",
    "tweets_2 = tweepy.Cursor(api.search, q=\"olympiquedemarseille\").items(500)\n",
    "tweets_3 = tweepy.Cursor(api.search, q=\"teamom\").items(500)"
   ]
  },
  {
   "cell_type": "code",
   "execution_count": 19,
   "id": "be556706",
   "metadata": {},
   "outputs": [],
   "source": [
    "tweet_data = pd.DataFrame(data=[tweet.text for tweet in tweets], columns=['Tweet'])\n",
    "tweet_data_2 = pd.DataFrame(data=[tweet.text for tweet in tweets_2], columns=['Tweet'])\n",
    "tweet_data_3 = pd.DataFrame(data=[tweet.text for tweet in tweets_3], columns=['Tweet'])"
   ]
  },
  {
   "cell_type": "code",
   "execution_count": 20,
   "id": "2e4c7cd8",
   "metadata": {},
   "outputs": [],
   "source": [
    "frames = [tweet_data, tweet_data_2, tweet_data_3]\n",
    "tweet_data_1106 = pd.concat(frames)"
   ]
  },
  {
   "cell_type": "code",
   "execution_count": 21,
   "id": "b29b28cc-09b9-48f4-be78-d377c2511b6f",
   "metadata": {},
   "outputs": [
    {
     "data": {
      "text/plain": [
       "(1054, 1)"
      ]
     },
     "execution_count": 21,
     "metadata": {},
     "output_type": "execute_result"
    }
   ],
   "source": [
    "tweet_data_1106.shape"
   ]
  },
  {
   "cell_type": "code",
   "execution_count": 24,
   "id": "e8302796-ef10-4687-a6dd-22b8b1466f44",
   "metadata": {},
   "outputs": [
    {
     "data": {
      "text/plain": [
       "(500, 1)"
      ]
     },
     "execution_count": 24,
     "metadata": {},
     "output_type": "execute_result"
    }
   ],
   "source": [
    "tweet_data_3.shape"
   ]
  },
  {
   "cell_type": "code",
   "execution_count": 11,
   "id": "d89439bd",
   "metadata": {},
   "outputs": [],
   "source": [
    "#pd.set_option('display.max_colwidth', -1)"
   ]
  },
  {
   "cell_type": "code",
   "execution_count": 26,
   "id": "335257db",
   "metadata": {},
   "outputs": [
    {
     "name": "stdout",
     "output_type": "stream",
     "text": [
      "                              Tweet\n",
      "97  @droitaubut_13 @GRINTA0107 😭😭😭😭\n"
     ]
    }
   ],
   "source": [
    "print(tweet_data_1106.iloc[[97]])"
   ]
  },
  {
   "cell_type": "code",
   "execution_count": 27,
   "id": "62e0a674",
   "metadata": {},
   "outputs": [],
   "source": [
    "def cleanUpTweet(text):\n",
    "    # Remove mentions\n",
    "    text = re.sub(r'@[A-Za-z0-9_]+', '', text)\n",
    "    # Remove hashtags\n",
    "    text = re.sub(r'#', '', text)\n",
    "    # Remove retweets:\n",
    "    text = re.sub(r'RT : ', '', text)\n",
    "    # Remove urls\n",
    "    text = re.sub(r'https?:\\/\\/[A-Za-z0-9\\.\\/]+', '', text)\n",
    "    return text"
   ]
  },
  {
   "cell_type": "code",
   "execution_count": 28,
   "id": "5fd2ba46",
   "metadata": {},
   "outputs": [],
   "source": [
    "tweet_data_1106['Tweet'] = tweet_data_1106['Tweet'].apply(cleanUpTweet)"
   ]
  },
  {
   "cell_type": "code",
   "execution_count": 29,
   "id": "f7cecb9d",
   "metadata": {},
   "outputs": [
    {
     "data": {
      "text/html": [
       "<div>\n",
       "<style scoped>\n",
       "    .dataframe tbody tr th:only-of-type {\n",
       "        vertical-align: middle;\n",
       "    }\n",
       "\n",
       "    .dataframe tbody tr th {\n",
       "        vertical-align: top;\n",
       "    }\n",
       "\n",
       "    .dataframe thead th {\n",
       "        text-align: right;\n",
       "    }\n",
       "</style>\n",
       "<table border=\"1\" class=\"dataframe\">\n",
       "  <thead>\n",
       "    <tr style=\"text-align: right;\">\n",
       "      <th></th>\n",
       "      <th>Tweet</th>\n",
       "    </tr>\n",
       "  </thead>\n",
       "  <tbody>\n",
       "    <tr>\n",
       "      <th>0</th>\n",
       "      <td></td>\n",
       "    </tr>\n",
       "    <tr>\n",
       "      <th>1</th>\n",
       "      <td></td>\n",
       "    </tr>\n",
       "    <tr>\n",
       "      <th>2</th>\n",
       "      <td>« Les dents de la marre »</td>\n",
       "    </tr>\n",
       "    <tr>\n",
       "      <th>3</th>\n",
       "      <td>Les dents de la mer</td>\n",
       "    </tr>\n",
       "    <tr>\n",
       "      <th>4</th>\n",
       "      <td>En fait, on a recruté Ntcham et Nagatomo pour ...</td>\n",
       "    </tr>\n",
       "    <tr>\n",
       "      <th>...</th>\n",
       "      <td>...</td>\n",
       "    </tr>\n",
       "    <tr>\n",
       "      <th>495</th>\n",
       "      <td>Mercato : l'OM piste un second joueur de Vélez...</td>\n",
       "    </tr>\n",
       "    <tr>\n",
       "      <th>496</th>\n",
       "      <td>🖋Nouveau visuel mettant en avant Luis  Henriqu...</td>\n",
       "    </tr>\n",
       "    <tr>\n",
       "      <th>497</th>\n",
       "      <td>Mercato : le gardien du Dynamo Kiev à l'OM ? T...</td>\n",
       "    </tr>\n",
       "    <tr>\n",
       "      <th>498</th>\n",
       "      <td>Steve Mandanda avec les Bleus, Duje Caleta Car...</td>\n",
       "    </tr>\n",
       "    <tr>\n",
       "      <th>499</th>\n",
       "      <td>OMdesign\\nRtt&amp;amp;Fav app\\n \\n\\nBonne jrnée à ...</td>\n",
       "    </tr>\n",
       "  </tbody>\n",
       "</table>\n",
       "<p>1054 rows × 1 columns</p>\n",
       "</div>"
      ],
      "text/plain": [
       "                                                 Tweet\n",
       "0                                                     \n",
       "1                                                     \n",
       "2                            « Les dents de la marre »\n",
       "3                                 Les dents de la mer \n",
       "4    En fait, on a recruté Ntcham et Nagatomo pour ...\n",
       "..                                                 ...\n",
       "495  Mercato : l'OM piste un second joueur de Vélez...\n",
       "496  🖋Nouveau visuel mettant en avant Luis  Henriqu...\n",
       "497  Mercato : le gardien du Dynamo Kiev à l'OM ? T...\n",
       "498  Steve Mandanda avec les Bleus, Duje Caleta Car...\n",
       "499  OMdesign\\nRtt&amp;Fav app\\n \\n\\nBonne jrnée à ...\n",
       "\n",
       "[1054 rows x 1 columns]"
      ]
     },
     "execution_count": 29,
     "metadata": {},
     "output_type": "execute_result"
    }
   ],
   "source": [
    "tweet_data_1106"
   ]
  },
  {
   "cell_type": "code",
   "execution_count": 30,
   "id": "18fa9b6f",
   "metadata": {},
   "outputs": [
    {
     "data": {
      "text/html": [
       "<div>\n",
       "<style scoped>\n",
       "    .dataframe tbody tr th:only-of-type {\n",
       "        vertical-align: middle;\n",
       "    }\n",
       "\n",
       "    .dataframe tbody tr th {\n",
       "        vertical-align: top;\n",
       "    }\n",
       "\n",
       "    .dataframe thead th {\n",
       "        text-align: right;\n",
       "    }\n",
       "</style>\n",
       "<table border=\"1\" class=\"dataframe\">\n",
       "  <thead>\n",
       "    <tr style=\"text-align: right;\">\n",
       "      <th></th>\n",
       "      <th>Tweet</th>\n",
       "    </tr>\n",
       "  </thead>\n",
       "  <tbody>\n",
       "    <tr>\n",
       "      <th>0</th>\n",
       "      <td></td>\n",
       "    </tr>\n",
       "    <tr>\n",
       "      <th>1</th>\n",
       "      <td></td>\n",
       "    </tr>\n",
       "    <tr>\n",
       "      <th>2</th>\n",
       "      <td>« Les dents de la marre »</td>\n",
       "    </tr>\n",
       "    <tr>\n",
       "      <th>3</th>\n",
       "      <td>Les dents de la mer</td>\n",
       "    </tr>\n",
       "    <tr>\n",
       "      <th>4</th>\n",
       "      <td>En fait, on a recruté Ntcham et Nagatomo pour ...</td>\n",
       "    </tr>\n",
       "    <tr>\n",
       "      <th>5</th>\n",
       "      <td>Dimanche frérot</td>\n",
       "    </tr>\n",
       "    <tr>\n",
       "      <th>6</th>\n",
       "      <td>😂😂😂</td>\n",
       "    </tr>\n",
       "    <tr>\n",
       "      <th>7</th>\n",
       "      <td>Elle veux ta merguez 😭😭😭</td>\n",
       "    </tr>\n",
       "    <tr>\n",
       "      <th>8</th>\n",
       "      <td>Ce sera le dessert</td>\n",
       "    </tr>\n",
       "    <tr>\n",
       "      <th>9</th>\n",
       "      <td>Elle va venir te voir bientôt 😂😂</td>\n",
       "    </tr>\n",
       "    <tr>\n",
       "      <th>10</th>\n",
       "      <td>T.V</td>\n",
       "    </tr>\n",
       "    <tr>\n",
       "      <th>11</th>\n",
       "      <td></td>\n",
       "    </tr>\n",
       "    <tr>\n",
       "      <th>12</th>\n",
       "      <td>Tu connais personne arrete</td>\n",
       "    </tr>\n",
       "    <tr>\n",
       "      <th>13</th>\n",
       "      <td></td>\n",
       "    </tr>\n",
       "    <tr>\n",
       "      <th>14</th>\n",
       "      <td>Je vois que ça va finir au lit entre vous...</td>\n",
       "    </tr>\n",
       "    <tr>\n",
       "      <th>15</th>\n",
       "      <td></td>\n",
       "    </tr>\n",
       "    <tr>\n",
       "      <th>16</th>\n",
       "      <td>Et oui 🤣🤣🤣</td>\n",
       "    </tr>\n",
       "    <tr>\n",
       "      <th>17</th>\n",
       "      <td>🤣🤣🤣</td>\n",
       "    </tr>\n",
       "    <tr>\n",
       "      <th>18</th>\n",
       "      <td>😭😭😭😭</td>\n",
       "    </tr>\n",
       "    <tr>\n",
       "      <th>19</th>\n",
       "      <td></td>\n",
       "    </tr>\n",
       "    <tr>\n",
       "      <th>20</th>\n",
       "      <td>😭😭😭clochard😂😂😂</td>\n",
       "    </tr>\n",
       "    <tr>\n",
       "      <th>21</th>\n",
       "      <td>Oui oui</td>\n",
       "    </tr>\n",
       "    <tr>\n",
       "      <th>22</th>\n",
       "      <td>😱😱😱😱</td>\n",
       "    </tr>\n",
       "    <tr>\n",
       "      <th>23</th>\n",
       "      <td>N'importe quoi , je bois pas H24 mais h72...</td>\n",
       "    </tr>\n",
       "    <tr>\n",
       "      <th>24</th>\n",
       "      <td>Lui y'a personne 😂😂</td>\n",
       "    </tr>\n",
       "    <tr>\n",
       "      <th>25</th>\n",
       "      <td>Ah bon où ça ???</td>\n",
       "    </tr>\n",
       "    <tr>\n",
       "      <th>26</th>\n",
       "      <td>J'ai confondu avec dedou 😂</td>\n",
       "    </tr>\n",
       "    <tr>\n",
       "      <th>27</th>\n",
       "      <td>Ah car toi tu est tous seul 🤷🏻‍♀️🤦🏻‍♀️🤣🤣🤣🤣</td>\n",
       "    </tr>\n",
       "    <tr>\n",
       "      <th>28</th>\n",
       "      <td>J'ai des amies dans le 06 et de la famille 😂</td>\n",
       "    </tr>\n",
       "    <tr>\n",
       "      <th>29</th>\n",
       "      <td>😂😂😂😂</td>\n",
       "    </tr>\n",
       "  </tbody>\n",
       "</table>\n",
       "</div>"
      ],
      "text/plain": [
       "                                                Tweet\n",
       "0                                                    \n",
       "1                                                    \n",
       "2                           « Les dents de la marre »\n",
       "3                                Les dents de la mer \n",
       "4   En fait, on a recruté Ntcham et Nagatomo pour ...\n",
       "5                                     Dimanche frérot\n",
       "6                                                😂😂😂 \n",
       "7                           Elle veux ta merguez 😭😭😭 \n",
       "8                                  Ce sera le dessert\n",
       "9                    Elle va venir te voir bientôt 😂😂\n",
       "10                                                T.V\n",
       "11                                                   \n",
       "12                         Tu connais personne arrete\n",
       "13                                                   \n",
       "14       Je vois que ça va finir au lit entre vous...\n",
       "15                                                   \n",
       "16                                         Et oui 🤣🤣🤣\n",
       "17                                                🤣🤣🤣\n",
       "18                                               😭😭😭😭\n",
       "19                                                   \n",
       "20                                     😭😭😭clochard😂😂😂\n",
       "21                                            Oui oui\n",
       "22                                               😱😱😱😱\n",
       "23       N'importe quoi , je bois pas H24 mais h72...\n",
       "24                                Lui y'a personne 😂😂\n",
       "25                                   Ah bon où ça ???\n",
       "26                         J'ai confondu avec dedou 😂\n",
       "27         Ah car toi tu est tous seul 🤷🏻‍♀️🤦🏻‍♀️🤣🤣🤣🤣\n",
       "28       J'ai des amies dans le 06 et de la famille 😂\n",
       "29                                               😂😂😂😂"
      ]
     },
     "execution_count": 30,
     "metadata": {},
     "output_type": "execute_result"
    }
   ],
   "source": [
    "tweet_data_1106.head(30)"
   ]
  },
  {
   "cell_type": "code",
   "execution_count": 17,
   "id": "105aae09",
   "metadata": {},
   "outputs": [],
   "source": [
    "#tweet_data.to_csv(\"1006data.csv\", sep='\\t')"
   ]
  },
  {
   "cell_type": "code",
   "execution_count": 31,
   "id": "d53b04fe",
   "metadata": {},
   "outputs": [
    {
     "data": {
      "text/plain": [
       "0"
      ]
     },
     "execution_count": 31,
     "metadata": {},
     "output_type": "execute_result"
    }
   ],
   "source": [
    "tweet_data_1106[\"Tweet\"].isna().sum()"
   ]
  },
  {
   "cell_type": "code",
   "execution_count": 32,
   "id": "cc64c0cc-a02b-421c-9286-c177b9ad67db",
   "metadata": {},
   "outputs": [],
   "source": [
    "tweet_data_1106.drop_duplicates(inplace=True)"
   ]
  },
  {
   "cell_type": "code",
   "execution_count": 34,
   "id": "f6fd31da-d24f-4d71-a47e-64330b010d89",
   "metadata": {},
   "outputs": [
    {
     "data": {
      "text/html": [
       "<div>\n",
       "<style scoped>\n",
       "    .dataframe tbody tr th:only-of-type {\n",
       "        vertical-align: middle;\n",
       "    }\n",
       "\n",
       "    .dataframe tbody tr th {\n",
       "        vertical-align: top;\n",
       "    }\n",
       "\n",
       "    .dataframe thead th {\n",
       "        text-align: right;\n",
       "    }\n",
       "</style>\n",
       "<table border=\"1\" class=\"dataframe\">\n",
       "  <thead>\n",
       "    <tr style=\"text-align: right;\">\n",
       "      <th></th>\n",
       "      <th>Tweet</th>\n",
       "    </tr>\n",
       "  </thead>\n",
       "  <tbody>\n",
       "    <tr>\n",
       "      <th>0</th>\n",
       "      <td></td>\n",
       "    </tr>\n",
       "    <tr>\n",
       "      <th>2</th>\n",
       "      <td>« Les dents de la marre »</td>\n",
       "    </tr>\n",
       "    <tr>\n",
       "      <th>3</th>\n",
       "      <td>Les dents de la mer</td>\n",
       "    </tr>\n",
       "    <tr>\n",
       "      <th>4</th>\n",
       "      <td>En fait, on a recruté Ntcham et Nagatomo pour ...</td>\n",
       "    </tr>\n",
       "    <tr>\n",
       "      <th>5</th>\n",
       "      <td>Dimanche frérot</td>\n",
       "    </tr>\n",
       "    <tr>\n",
       "      <th>6</th>\n",
       "      <td>😂😂😂</td>\n",
       "    </tr>\n",
       "    <tr>\n",
       "      <th>7</th>\n",
       "      <td>Elle veux ta merguez 😭😭😭</td>\n",
       "    </tr>\n",
       "    <tr>\n",
       "      <th>8</th>\n",
       "      <td>Ce sera le dessert</td>\n",
       "    </tr>\n",
       "    <tr>\n",
       "      <th>9</th>\n",
       "      <td>Elle va venir te voir bientôt 😂😂</td>\n",
       "    </tr>\n",
       "    <tr>\n",
       "      <th>10</th>\n",
       "      <td>T.V</td>\n",
       "    </tr>\n",
       "    <tr>\n",
       "      <th>12</th>\n",
       "      <td>Tu connais personne arrete</td>\n",
       "    </tr>\n",
       "    <tr>\n",
       "      <th>14</th>\n",
       "      <td>Je vois que ça va finir au lit entre vous...</td>\n",
       "    </tr>\n",
       "    <tr>\n",
       "      <th>16</th>\n",
       "      <td>Et oui 🤣🤣🤣</td>\n",
       "    </tr>\n",
       "    <tr>\n",
       "      <th>17</th>\n",
       "      <td>🤣🤣🤣</td>\n",
       "    </tr>\n",
       "    <tr>\n",
       "      <th>18</th>\n",
       "      <td>😭😭😭😭</td>\n",
       "    </tr>\n",
       "  </tbody>\n",
       "</table>\n",
       "</div>"
      ],
      "text/plain": [
       "                                                Tweet\n",
       "0                                                    \n",
       "2                           « Les dents de la marre »\n",
       "3                                Les dents de la mer \n",
       "4   En fait, on a recruté Ntcham et Nagatomo pour ...\n",
       "5                                     Dimanche frérot\n",
       "6                                                😂😂😂 \n",
       "7                           Elle veux ta merguez 😭😭😭 \n",
       "8                                  Ce sera le dessert\n",
       "9                    Elle va venir te voir bientôt 😂😂\n",
       "10                                                T.V\n",
       "12                         Tu connais personne arrete\n",
       "14       Je vois que ça va finir au lit entre vous...\n",
       "16                                         Et oui 🤣🤣🤣\n",
       "17                                                🤣🤣🤣\n",
       "18                                               😭😭😭😭"
      ]
     },
     "execution_count": 34,
     "metadata": {},
     "output_type": "execute_result"
    }
   ],
   "source": [
    "tweet_data_1106.head(15)"
   ]
  },
  {
   "cell_type": "code",
   "execution_count": 35,
   "id": "baa7ce6d-57c6-410c-b50c-d2d0c323f090",
   "metadata": {},
   "outputs": [
    {
     "data": {
      "text/plain": [
       "(596, 1)"
      ]
     },
     "execution_count": 35,
     "metadata": {},
     "output_type": "execute_result"
    }
   ],
   "source": [
    "tweet_data_1106.shape"
   ]
  },
  {
   "cell_type": "code",
   "execution_count": 36,
   "id": "41991e77-ee35-448c-9af0-054d9c60b15e",
   "metadata": {},
   "outputs": [
    {
     "data": {
      "text/plain": [
       "0                                                     \n",
       "0    OlympiquedeMarseille ⚽️ se quiere llevar a Kic...\n",
       "0    McCourt courtise les Marseillais OM TeamOM Mer...\n",
       "Name: Tweet, dtype: object"
      ]
     },
     "execution_count": 36,
     "metadata": {},
     "output_type": "execute_result"
    }
   ],
   "source": [
    "tweet_data_1106['Tweet'][0]"
   ]
  },
  {
   "cell_type": "code",
   "execution_count": 37,
   "id": "10230725-0d74-4ded-bd4d-5896dc6a432b",
   "metadata": {},
   "outputs": [],
   "source": [
    "tweet_data_1106.to_csv(\"1106data.csv\")"
   ]
  },
  {
   "cell_type": "code",
   "execution_count": 38,
   "id": "65712a65-a47a-4952-8cd5-a0408ff50f1b",
   "metadata": {},
   "outputs": [],
   "source": [
    "data = pd.read_csv(\"1006data.csv\")\n",
    "data_2 = pd.read_csv(\"1106data.csv\")"
   ]
  },
  {
   "cell_type": "code",
   "execution_count": 39,
   "id": "2be8229e-7bce-4c4f-b23a-3fbff9ad4bc1",
   "metadata": {},
   "outputs": [],
   "source": [
    "frames_2 = [data, data_2]"
   ]
  },
  {
   "cell_type": "code",
   "execution_count": 40,
   "id": "1026940c-e3f3-4abc-a15b-8a17a53e1b8d",
   "metadata": {},
   "outputs": [],
   "source": [
    "tweet_data_test = pd.concat(frames_2)"
   ]
  },
  {
   "cell_type": "code",
   "execution_count": 41,
   "id": "75ddaebb-7b4c-4f88-bce4-a133531a70f7",
   "metadata": {},
   "outputs": [
    {
     "data": {
      "text/plain": [
       "(1122, 2)"
      ]
     },
     "execution_count": 41,
     "metadata": {},
     "output_type": "execute_result"
    }
   ],
   "source": [
    "tweet_data_test.shape"
   ]
  },
  {
   "cell_type": "code",
   "execution_count": 42,
   "id": "4cfabc28-ae7b-45b4-aa4b-6092af561122",
   "metadata": {},
   "outputs": [],
   "source": [
    "tweet_data_test.drop_duplicates(inplace=True)"
   ]
  },
  {
   "cell_type": "code",
   "execution_count": 47,
   "id": "02985255-27ee-4a87-b289-789c70b01495",
   "metadata": {},
   "outputs": [],
   "source": [
    "tweet_data_test.to_csv(\"testdata.csv\")"
   ]
  },
  {
   "cell_type": "code",
   "execution_count": 48,
   "id": "d623c52a-ecf6-459e-9e75-caa4c8bc88fd",
   "metadata": {},
   "outputs": [],
   "source": [
    "test = pd.read_csv(\"testdata.csv\")"
   ]
  },
  {
   "cell_type": "code",
   "execution_count": 49,
   "id": "c42cef66-b731-4248-b0f8-5b403c5d89b4",
   "metadata": {},
   "outputs": [
    {
     "data": {
      "text/html": [
       "<div>\n",
       "<style scoped>\n",
       "    .dataframe tbody tr th:only-of-type {\n",
       "        vertical-align: middle;\n",
       "    }\n",
       "\n",
       "    .dataframe tbody tr th {\n",
       "        vertical-align: top;\n",
       "    }\n",
       "\n",
       "    .dataframe thead th {\n",
       "        text-align: right;\n",
       "    }\n",
       "</style>\n",
       "<table border=\"1\" class=\"dataframe\">\n",
       "  <thead>\n",
       "    <tr style=\"text-align: right;\">\n",
       "      <th></th>\n",
       "      <th>Unnamed: 0</th>\n",
       "      <th>Unnamed: 0.1</th>\n",
       "      <th>Tweet</th>\n",
       "    </tr>\n",
       "  </thead>\n",
       "  <tbody>\n",
       "    <tr>\n",
       "      <th>0</th>\n",
       "      <td>0</td>\n",
       "      <td>0</td>\n",
       "      <td>Et oui il a raison... Comme bcq d ancien... ...</td>\n",
       "    </tr>\n",
       "    <tr>\n",
       "      <th>1</th>\n",
       "      <td>1</td>\n",
       "      <td>1</td>\n",
       "      <td>…</td>\n",
       "    </tr>\n",
       "    <tr>\n",
       "      <th>2</th>\n",
       "      <td>2</td>\n",
       "      <td>22</td>\n",
       "      <td>…</td>\n",
       "    </tr>\n",
       "    <tr>\n",
       "      <th>3</th>\n",
       "      <td>3</td>\n",
       "      <td>32</td>\n",
       "      <td>Miroslav Klose : \"Le football que je jouais da...</td>\n",
       "    </tr>\n",
       "    <tr>\n",
       "      <th>4</th>\n",
       "      <td>4</td>\n",
       "      <td>33</td>\n",
       "      <td>Première intervention de Raymond Domenech qui ...</td>\n",
       "    </tr>\n",
       "  </tbody>\n",
       "</table>\n",
       "</div>"
      ],
      "text/plain": [
       "   Unnamed: 0  Unnamed: 0.1                                              Tweet\n",
       "0           0             0    Et oui il a raison... Comme bcq d ancien... ...\n",
       "1           1             1                                                 … \n",
       "2           2            22                                                 … \n",
       "3           3            32  Miroslav Klose : \"Le football que je jouais da...\n",
       "4           4            33  Première intervention de Raymond Domenech qui ..."
      ]
     },
     "execution_count": 49,
     "metadata": {},
     "output_type": "execute_result"
    }
   ],
   "source": [
    "test.head()"
   ]
  },
  {
   "cell_type": "code",
   "execution_count": 50,
   "id": "b262ee0f-afa4-4e98-9583-052d048f2f50",
   "metadata": {},
   "outputs": [
    {
     "data": {
      "text/plain": [
       "array([ True,  True, False])"
      ]
     },
     "execution_count": 50,
     "metadata": {},
     "output_type": "execute_result"
    }
   ],
   "source": [
    "test.columns.str.match(\"Unnamed\")"
   ]
  },
  {
   "cell_type": "code",
   "execution_count": 51,
   "id": "f89b16cd-4c8e-4164-bafd-2f906a883f27",
   "metadata": {},
   "outputs": [],
   "source": [
    "test = test.loc[:,~test.columns.str.match(\"Unnamed\")]"
   ]
  },
  {
   "cell_type": "code",
   "execution_count": 52,
   "id": "b508fb8a-ea22-423c-b47b-7eecf80fc3da",
   "metadata": {},
   "outputs": [
    {
     "data": {
      "text/html": [
       "<div>\n",
       "<style scoped>\n",
       "    .dataframe tbody tr th:only-of-type {\n",
       "        vertical-align: middle;\n",
       "    }\n",
       "\n",
       "    .dataframe tbody tr th {\n",
       "        vertical-align: top;\n",
       "    }\n",
       "\n",
       "    .dataframe thead th {\n",
       "        text-align: right;\n",
       "    }\n",
       "</style>\n",
       "<table border=\"1\" class=\"dataframe\">\n",
       "  <thead>\n",
       "    <tr style=\"text-align: right;\">\n",
       "      <th></th>\n",
       "      <th>Tweet</th>\n",
       "    </tr>\n",
       "  </thead>\n",
       "  <tbody>\n",
       "    <tr>\n",
       "      <th>0</th>\n",
       "      <td>Et oui il a raison... Comme bcq d ancien... ...</td>\n",
       "    </tr>\n",
       "    <tr>\n",
       "      <th>1</th>\n",
       "      <td>…</td>\n",
       "    </tr>\n",
       "    <tr>\n",
       "      <th>2</th>\n",
       "      <td>…</td>\n",
       "    </tr>\n",
       "    <tr>\n",
       "      <th>3</th>\n",
       "      <td>Miroslav Klose : \"Le football que je jouais da...</td>\n",
       "    </tr>\n",
       "    <tr>\n",
       "      <th>4</th>\n",
       "      <td>Première intervention de Raymond Domenech qui ...</td>\n",
       "    </tr>\n",
       "  </tbody>\n",
       "</table>\n",
       "</div>"
      ],
      "text/plain": [
       "                                               Tweet\n",
       "0    Et oui il a raison... Comme bcq d ancien... ...\n",
       "1                                                 … \n",
       "2                                                 … \n",
       "3  Miroslav Klose : \"Le football que je jouais da...\n",
       "4  Première intervention de Raymond Domenech qui ..."
      ]
     },
     "execution_count": 52,
     "metadata": {},
     "output_type": "execute_result"
    }
   ],
   "source": [
    "test.head()"
   ]
  },
  {
   "cell_type": "code",
   "execution_count": 53,
   "id": "d051b7d4-7cbf-4fcf-86d6-088b64bd8a9a",
   "metadata": {},
   "outputs": [],
   "source": [
    "test.to_csv(\"test_twitter.csv\")"
   ]
  },
  {
   "cell_type": "code",
   "execution_count": 6,
   "id": "8388c6a5-bf07-46f0-b782-86054c10cfe6",
   "metadata": {},
   "outputs": [],
   "source": [
    "import string\n",
    "from nltk.corpus import stopwords\n",
    "from nltk.tokenize import word_tokenize\n",
    "from nltk.stem import WordNetLemmatizer\n",
    "from nltk.corpus import wordnet\n",
    "from nltk.tokenize import TweetTokenizer\n",
    "stop = set(stopwords.words('french'))"
   ]
  },
  {
   "cell_type": "code",
   "execution_count": 7,
   "id": "5c27b2d9-7028-41ff-bdfe-8401ffa8361c",
   "metadata": {},
   "outputs": [],
   "source": [
    "import spacy\n",
    "nlp = spacy.load('fr_core_news_md')"
   ]
  },
  {
   "cell_type": "code",
   "execution_count": 8,
   "id": "39240adf-6560-4b9d-a30c-ff496177589d",
   "metadata": {},
   "outputs": [],
   "source": [
    "def clean_text(text):\n",
    "    # lower text\n",
    "    text = text.lower()\n",
    "    # remove puncutation\n",
    "    for punctuation in string.punctuation.replace('#',''):\n",
    "        text = text.replace(punctuation, ' ')\n",
    "    # remove words that contain numbers\n",
    "    text = ''.join(letter for letter in text if not letter.isdigit())\n",
    "    #tokenization + remove stop words\n",
    "    doc=nlp(text)\n",
    "    lemmatized= [token.lemma_ for token in doc]\n",
    "    # join all\n",
    "    text = \" \".join(lemmatized)\n",
    "    return text"
   ]
  },
  {
   "cell_type": "code",
   "execution_count": 9,
   "id": "ff88ac12-ee0a-4d13-a65f-cadfd7aad1d8",
   "metadata": {},
   "outputs": [],
   "source": [
    "data[\"Clean_tweet\"] = data[\"Tweet\"].apply(clean_text)"
   ]
  },
  {
   "cell_type": "code",
   "execution_count": 10,
   "id": "7c970293-09bc-4d0d-925c-be5ac6901be3",
   "metadata": {},
   "outputs": [
    {
     "data": {
      "text/html": [
       "<div>\n",
       "<style scoped>\n",
       "    .dataframe tbody tr th:only-of-type {\n",
       "        vertical-align: middle;\n",
       "    }\n",
       "\n",
       "    .dataframe tbody tr th {\n",
       "        vertical-align: top;\n",
       "    }\n",
       "\n",
       "    .dataframe thead th {\n",
       "        text-align: right;\n",
       "    }\n",
       "</style>\n",
       "<table border=\"1\" class=\"dataframe\">\n",
       "  <thead>\n",
       "    <tr style=\"text-align: right;\">\n",
       "      <th></th>\n",
       "      <th>Unnamed: 0</th>\n",
       "      <th>Tweet</th>\n",
       "      <th>Clean_tweet</th>\n",
       "    </tr>\n",
       "  </thead>\n",
       "  <tbody>\n",
       "    <tr>\n",
       "      <th>0</th>\n",
       "      <td>0</td>\n",
       "      <td>Et oui il a raison... Comme bcq d ancien... ...</td>\n",
       "      <td>et oui il avoir raison     comme bcq d anci...</td>\n",
       "    </tr>\n",
       "    <tr>\n",
       "      <th>1</th>\n",
       "      <td>1</td>\n",
       "      <td>…</td>\n",
       "      <td>…</td>\n",
       "    </tr>\n",
       "    <tr>\n",
       "      <th>2</th>\n",
       "      <td>22</td>\n",
       "      <td>…</td>\n",
       "      <td>…</td>\n",
       "    </tr>\n",
       "    <tr>\n",
       "      <th>3</th>\n",
       "      <td>32</td>\n",
       "      <td>Miroslav Klose : \"Le football que je jouais da...</td>\n",
       "      <td>miroslav klos     le football que je jouer dan...</td>\n",
       "    </tr>\n",
       "    <tr>\n",
       "      <th>4</th>\n",
       "      <td>33</td>\n",
       "      <td>Première intervention de Raymond Domenech qui ...</td>\n",
       "      <td>premier intervention de raymond domenech qui p...</td>\n",
       "    </tr>\n",
       "  </tbody>\n",
       "</table>\n",
       "</div>"
      ],
      "text/plain": [
       "   Unnamed: 0                                              Tweet  \\\n",
       "0           0    Et oui il a raison... Comme bcq d ancien... ...   \n",
       "1           1                                                 …    \n",
       "2          22                                                 …    \n",
       "3          32  Miroslav Klose : \"Le football que je jouais da...   \n",
       "4          33  Première intervention de Raymond Domenech qui ...   \n",
       "\n",
       "                                         Clean_tweet  \n",
       "0     et oui il avoir raison     comme bcq d anci...  \n",
       "1                                                  …  \n",
       "2                                                  …  \n",
       "3  miroslav klos     le football que je jouer dan...  \n",
       "4  premier intervention de raymond domenech qui p...  "
      ]
     },
     "execution_count": 10,
     "metadata": {},
     "output_type": "execute_result"
    }
   ],
   "source": [
    "data.head()"
   ]
  },
  {
   "cell_type": "code",
   "execution_count": 11,
   "id": "9bbddf1c-b0b8-459c-823b-8a188fe8e0e1",
   "metadata": {},
   "outputs": [
    {
     "data": {
      "text/plain": [
       "array([ True, False, False])"
      ]
     },
     "execution_count": 11,
     "metadata": {},
     "output_type": "execute_result"
    }
   ],
   "source": [
    "data.columns.str.match(\"Unnamed\")"
   ]
  },
  {
   "cell_type": "code",
   "execution_count": 12,
   "id": "dc7d5c92-6a55-4182-97f5-0c4adff13099",
   "metadata": {},
   "outputs": [],
   "source": [
    "data = data.loc[:,~data.columns.str.match(\"Unnamed\")]"
   ]
  },
  {
   "cell_type": "code",
   "execution_count": null,
   "id": "14e632ad-9035-4bce-8034-d6a1ced9c261",
   "metadata": {},
   "outputs": [],
   "source": []
  }
 ],
 "metadata": {
  "kernelspec": {
   "display_name": "Python 3",
   "language": "python",
   "name": "python3"
  },
  "language_info": {
   "codemirror_mode": {
    "name": "ipython",
    "version": 3
   },
   "file_extension": ".py",
   "mimetype": "text/x-python",
   "name": "python",
   "nbconvert_exporter": "python",
   "pygments_lexer": "ipython3",
   "version": "3.9.0"
  },
  "toc": {
   "base_numbering": 1,
   "nav_menu": {},
   "number_sections": true,
   "sideBar": true,
   "skip_h1_title": false,
   "title_cell": "Table of Contents",
   "title_sidebar": "Contents",
   "toc_cell": false,
   "toc_position": {},
   "toc_section_display": true,
   "toc_window_display": false
  }
 },
 "nbformat": 4,
 "nbformat_minor": 5
}
